{
 "cells": [
  {
   "cell_type": "markdown",
   "metadata": {
    "nbgrader": {
     "grade": false,
     "grade_id": "cell-c7f9c59fb9da20bc",
     "locked": true,
     "schema_version": 3,
     "solution": false,
     "task": false
    }
   },
   "source": [
    "# Pandas Data Cleaning Checkpoint\n",
    "\n",
    "This checkpoint is designed to test your understanding of the content from the Pandas Data Cleaning Cumulative Lab.\n",
    "\n",
    "Specifically, this will cover:\n",
    "\n",
    "* Using pandas to filter data\n",
    "* Using pandas to handle missing values\n",
    "* Using matplotlib to create a graph using data from a dataframe\n",
    "\n",
    "## Your Task: Analyze Superhero Eye Color\n",
    "\n",
    "### Data Understanding\n",
    "\n",
    "In this repository under the file path `data/heroes_information.csv` there is a CSV file containing information about various characters from superhero media properties.\n",
    "\n",
    "The features of interest for this analysis will be:\n",
    "\n",
    "`name`: The name (or AKA) of the character\n",
    "\n",
    "`Eye color`: The eye color of the character\n",
    "\n",
    "`Alignment`: \"good\", \"bad\", or \"neutral\". For the purposes of this analysis, we will only consider those with \"good\" alignment to be \"superheroes\"\n",
    "\n",
    "### Requirements\n",
    "\n",
    "#### 1. Filter Data to Relevant Columns\n",
    "\n",
    "#### 2. Filter Data to Relevant Rows\n",
    "\n",
    "#### 3. Drop Rows with Missing Values\n",
    "\n",
    "#### 4. Find the Top 5 Most Common Eye Colors\n",
    "\n",
    "#### 5. Plot a Bar Chart of Eye Colors\n",
    "\n",
    "### Setup\n",
    "\n",
    "In the cell below we import the relevant libraries, open up the CSV file as a dataframe called `df`, and convert cells containing `-` into cells containing `NaN` (because `-` was used to represent missing data in the original dataset).\n",
    "\n",
    "***Hint:*** If you ever accidentally drop data that you didn't mean to drop, you can come back to this cell and re-run it to load a fresh copy of the data. Before submission, make sure you restart the kernel and run all of the cells to make sure that everything works in order."
   ]
  },
  {
   "cell_type": "code",
   "execution_count": 1,
   "metadata": {
    "nbgrader": {
     "grade": false,
     "grade_id": "cell-2a680a5b090b864e",
     "locked": true,
     "schema_version": 3,
     "solution": false,
     "task": false
    },
    "scrolled": false
   },
   "outputs": [
    {
     "data": {
      "text/html": [
       "<div>\n",
       "<style scoped>\n",
       "    .dataframe tbody tr th:only-of-type {\n",
       "        vertical-align: middle;\n",
       "    }\n",
       "\n",
       "    .dataframe tbody tr th {\n",
       "        vertical-align: top;\n",
       "    }\n",
       "\n",
       "    .dataframe thead th {\n",
       "        text-align: right;\n",
       "    }\n",
       "</style>\n",
       "<table border=\"1\" class=\"dataframe\">\n",
       "  <thead>\n",
       "    <tr style=\"text-align: right;\">\n",
       "      <th></th>\n",
       "      <th>name</th>\n",
       "      <th>Gender</th>\n",
       "      <th>Eye color</th>\n",
       "      <th>Race</th>\n",
       "      <th>Hair color</th>\n",
       "      <th>Height</th>\n",
       "      <th>Publisher</th>\n",
       "      <th>Skin color</th>\n",
       "      <th>Alignment</th>\n",
       "      <th>Weight</th>\n",
       "    </tr>\n",
       "  </thead>\n",
       "  <tbody>\n",
       "    <tr>\n",
       "      <th>0</th>\n",
       "      <td>A-Bomb</td>\n",
       "      <td>Male</td>\n",
       "      <td>yellow</td>\n",
       "      <td>Human</td>\n",
       "      <td>No Hair</td>\n",
       "      <td>203.0</td>\n",
       "      <td>Marvel Comics</td>\n",
       "      <td>NaN</td>\n",
       "      <td>good</td>\n",
       "      <td>441.0</td>\n",
       "    </tr>\n",
       "    <tr>\n",
       "      <th>1</th>\n",
       "      <td>Abe Sapien</td>\n",
       "      <td>Male</td>\n",
       "      <td>blue</td>\n",
       "      <td>Icthyo Sapien</td>\n",
       "      <td>No Hair</td>\n",
       "      <td>191.0</td>\n",
       "      <td>Dark Horse Comics</td>\n",
       "      <td>blue</td>\n",
       "      <td>good</td>\n",
       "      <td>65.0</td>\n",
       "    </tr>\n",
       "    <tr>\n",
       "      <th>2</th>\n",
       "      <td>Abin Sur</td>\n",
       "      <td>Male</td>\n",
       "      <td>blue</td>\n",
       "      <td>Ungaran</td>\n",
       "      <td>No Hair</td>\n",
       "      <td>185.0</td>\n",
       "      <td>DC Comics</td>\n",
       "      <td>red</td>\n",
       "      <td>good</td>\n",
       "      <td>90.0</td>\n",
       "    </tr>\n",
       "    <tr>\n",
       "      <th>3</th>\n",
       "      <td>Abomination</td>\n",
       "      <td>Male</td>\n",
       "      <td>green</td>\n",
       "      <td>Human / Radiation</td>\n",
       "      <td>No Hair</td>\n",
       "      <td>203.0</td>\n",
       "      <td>Marvel Comics</td>\n",
       "      <td>NaN</td>\n",
       "      <td>bad</td>\n",
       "      <td>441.0</td>\n",
       "    </tr>\n",
       "    <tr>\n",
       "      <th>4</th>\n",
       "      <td>Abraxas</td>\n",
       "      <td>Male</td>\n",
       "      <td>blue</td>\n",
       "      <td>Cosmic Entity</td>\n",
       "      <td>Black</td>\n",
       "      <td>-99.0</td>\n",
       "      <td>Marvel Comics</td>\n",
       "      <td>NaN</td>\n",
       "      <td>bad</td>\n",
       "      <td>-99.0</td>\n",
       "    </tr>\n",
       "    <tr>\n",
       "      <th>...</th>\n",
       "      <td>...</td>\n",
       "      <td>...</td>\n",
       "      <td>...</td>\n",
       "      <td>...</td>\n",
       "      <td>...</td>\n",
       "      <td>...</td>\n",
       "      <td>...</td>\n",
       "      <td>...</td>\n",
       "      <td>...</td>\n",
       "      <td>...</td>\n",
       "    </tr>\n",
       "    <tr>\n",
       "      <th>729</th>\n",
       "      <td>Yellowjacket II</td>\n",
       "      <td>Female</td>\n",
       "      <td>blue</td>\n",
       "      <td>Human</td>\n",
       "      <td>Strawberry Blond</td>\n",
       "      <td>165.0</td>\n",
       "      <td>Marvel Comics</td>\n",
       "      <td>NaN</td>\n",
       "      <td>good</td>\n",
       "      <td>52.0</td>\n",
       "    </tr>\n",
       "    <tr>\n",
       "      <th>730</th>\n",
       "      <td>Ymir</td>\n",
       "      <td>Male</td>\n",
       "      <td>white</td>\n",
       "      <td>Frost Giant</td>\n",
       "      <td>No Hair</td>\n",
       "      <td>304.8</td>\n",
       "      <td>Marvel Comics</td>\n",
       "      <td>white</td>\n",
       "      <td>good</td>\n",
       "      <td>-99.0</td>\n",
       "    </tr>\n",
       "    <tr>\n",
       "      <th>731</th>\n",
       "      <td>Yoda</td>\n",
       "      <td>Male</td>\n",
       "      <td>brown</td>\n",
       "      <td>Yoda's species</td>\n",
       "      <td>White</td>\n",
       "      <td>66.0</td>\n",
       "      <td>George Lucas</td>\n",
       "      <td>green</td>\n",
       "      <td>good</td>\n",
       "      <td>17.0</td>\n",
       "    </tr>\n",
       "    <tr>\n",
       "      <th>732</th>\n",
       "      <td>Zatanna</td>\n",
       "      <td>Female</td>\n",
       "      <td>blue</td>\n",
       "      <td>Human</td>\n",
       "      <td>Black</td>\n",
       "      <td>170.0</td>\n",
       "      <td>DC Comics</td>\n",
       "      <td>NaN</td>\n",
       "      <td>good</td>\n",
       "      <td>57.0</td>\n",
       "    </tr>\n",
       "    <tr>\n",
       "      <th>733</th>\n",
       "      <td>Zoom</td>\n",
       "      <td>Male</td>\n",
       "      <td>red</td>\n",
       "      <td>NaN</td>\n",
       "      <td>Brown</td>\n",
       "      <td>185.0</td>\n",
       "      <td>DC Comics</td>\n",
       "      <td>NaN</td>\n",
       "      <td>bad</td>\n",
       "      <td>81.0</td>\n",
       "    </tr>\n",
       "  </tbody>\n",
       "</table>\n",
       "<p>734 rows × 10 columns</p>\n",
       "</div>"
      ],
      "text/plain": [
       "                name  Gender Eye color               Race        Hair color  \\\n",
       "0             A-Bomb    Male    yellow              Human           No Hair   \n",
       "1         Abe Sapien    Male      blue      Icthyo Sapien           No Hair   \n",
       "2           Abin Sur    Male      blue            Ungaran           No Hair   \n",
       "3        Abomination    Male     green  Human / Radiation           No Hair   \n",
       "4            Abraxas    Male      blue      Cosmic Entity             Black   \n",
       "..               ...     ...       ...                ...               ...   \n",
       "729  Yellowjacket II  Female      blue              Human  Strawberry Blond   \n",
       "730             Ymir    Male     white        Frost Giant           No Hair   \n",
       "731             Yoda    Male     brown     Yoda's species             White   \n",
       "732          Zatanna  Female      blue              Human             Black   \n",
       "733             Zoom    Male       red                NaN             Brown   \n",
       "\n",
       "     Height          Publisher Skin color Alignment  Weight  \n",
       "0     203.0      Marvel Comics        NaN      good   441.0  \n",
       "1     191.0  Dark Horse Comics       blue      good    65.0  \n",
       "2     185.0          DC Comics        red      good    90.0  \n",
       "3     203.0      Marvel Comics        NaN       bad   441.0  \n",
       "4     -99.0      Marvel Comics        NaN       bad   -99.0  \n",
       "..      ...                ...        ...       ...     ...  \n",
       "729   165.0      Marvel Comics        NaN      good    52.0  \n",
       "730   304.8      Marvel Comics      white      good   -99.0  \n",
       "731    66.0       George Lucas      green      good    17.0  \n",
       "732   170.0          DC Comics        NaN      good    57.0  \n",
       "733   185.0          DC Comics        NaN       bad    81.0  \n",
       "\n",
       "[734 rows x 10 columns]"
      ]
     },
     "execution_count": 1,
     "metadata": {},
     "output_type": "execute_result"
    }
   ],
   "source": [
    "# Run this cell without changes\n",
    "import pandas as pd\n",
    "import numpy as np\n",
    "import matplotlib.pyplot as plt\n",
    "\n",
    "df = pd.read_csv(\"heroes_information.csv\", index_col=0)\n",
    "df.replace(\"-\", np.nan, inplace=True)\n",
    "\n",
    "df"
   ]
  },
  {
   "cell_type": "code",
   "execution_count": 2,
   "metadata": {},
   "outputs": [
    {
     "data": {
      "text/plain": [
       "(734, 10)"
      ]
     },
     "execution_count": 2,
     "metadata": {},
     "output_type": "execute_result"
    }
   ],
   "source": [
    "df.shape"
   ]
  },
  {
   "cell_type": "markdown",
   "metadata": {
    "nbgrader": {
     "grade": false,
     "grade_id": "cell-3b8b175f2cc98c2e",
     "locked": true,
     "schema_version": 3,
     "solution": false,
     "task": false
    }
   },
   "source": [
    "## 1. Filter Data to Relevant Columns\n",
    "\n",
    "Modify `df` so that it only contains the relevant columns for our analysis. These columns are listed as a list of strings for your convenience below.\n",
    "\n",
    "When you are finished with this question, `df` should have the same number of rows as before (734 rows) but only 3 columns.\n",
    "\n",
    "***Hint:*** if you are seeing the correct output but the test is failing, make sure that you are actually modifying `df`, either by reassigning it (`df = `...) or by using `inplace=True` (where applicable)."
   ]
  },
  {
   "cell_type": "code",
   "execution_count": 3,
   "metadata": {
    "nbgrader": {
     "grade": false,
     "grade_id": "cell-ca673c04964de7c0",
     "locked": true,
     "schema_version": 3,
     "solution": false,
     "task": false
    }
   },
   "outputs": [],
   "source": [
    "# Run this cell without changes\n",
    "relevant_columns = [\n",
    "    \"name\",\n",
    "    \"Eye color\",\n",
    "    \"Alignment\"\n",
    "]"
   ]
  },
  {
   "cell_type": "code",
   "execution_count": 4,
   "metadata": {},
   "outputs": [
    {
     "data": {
      "text/plain": [
       "Index(['name', 'Gender', 'Eye color', 'Race', 'Hair color', 'Height',\n",
       "       'Publisher', 'Skin color', 'Alignment', 'Weight'],\n",
       "      dtype='object')"
      ]
     },
     "execution_count": 4,
     "metadata": {},
     "output_type": "execute_result"
    }
   ],
   "source": [
    "df.columns"
   ]
  },
  {
   "cell_type": "code",
   "execution_count": null,
   "metadata": {},
   "outputs": [],
   "source": [
    "#df.drop(columns = (set(df.columns) = set(relevant_colums)))"
   ]
  },
  {
   "cell_type": "code",
   "execution_count": 5,
   "metadata": {},
   "outputs": [
    {
     "data": {
      "text/plain": [
       "<bound method DataFrame.info of                 name  Gender Eye color               Race        Hair color  \\\n",
       "0             A-Bomb    Male    yellow              Human           No Hair   \n",
       "1         Abe Sapien    Male      blue      Icthyo Sapien           No Hair   \n",
       "2           Abin Sur    Male      blue            Ungaran           No Hair   \n",
       "3        Abomination    Male     green  Human / Radiation           No Hair   \n",
       "4            Abraxas    Male      blue      Cosmic Entity             Black   \n",
       "..               ...     ...       ...                ...               ...   \n",
       "729  Yellowjacket II  Female      blue              Human  Strawberry Blond   \n",
       "730             Ymir    Male     white        Frost Giant           No Hair   \n",
       "731             Yoda    Male     brown     Yoda's species             White   \n",
       "732          Zatanna  Female      blue              Human             Black   \n",
       "733             Zoom    Male       red                NaN             Brown   \n",
       "\n",
       "     Height          Publisher Skin color Alignment  Weight  \n",
       "0     203.0      Marvel Comics        NaN      good   441.0  \n",
       "1     191.0  Dark Horse Comics       blue      good    65.0  \n",
       "2     185.0          DC Comics        red      good    90.0  \n",
       "3     203.0      Marvel Comics        NaN       bad   441.0  \n",
       "4     -99.0      Marvel Comics        NaN       bad   -99.0  \n",
       "..      ...                ...        ...       ...     ...  \n",
       "729   165.0      Marvel Comics        NaN      good    52.0  \n",
       "730   304.8      Marvel Comics      white      good   -99.0  \n",
       "731    66.0       George Lucas      green      good    17.0  \n",
       "732   170.0          DC Comics        NaN      good    57.0  \n",
       "733   185.0          DC Comics        NaN       bad    81.0  \n",
       "\n",
       "[734 rows x 10 columns]>"
      ]
     },
     "execution_count": 5,
     "metadata": {},
     "output_type": "execute_result"
    }
   ],
   "source": [
    "df.info"
   ]
  },
  {
   "cell_type": "code",
   "execution_count": 6,
   "metadata": {},
   "outputs": [
    {
     "data": {
      "text/html": [
       "<div>\n",
       "<style scoped>\n",
       "    .dataframe tbody tr th:only-of-type {\n",
       "        vertical-align: middle;\n",
       "    }\n",
       "\n",
       "    .dataframe tbody tr th {\n",
       "        vertical-align: top;\n",
       "    }\n",
       "\n",
       "    .dataframe thead th {\n",
       "        text-align: right;\n",
       "    }\n",
       "</style>\n",
       "<table border=\"1\" class=\"dataframe\">\n",
       "  <thead>\n",
       "    <tr style=\"text-align: right;\">\n",
       "      <th></th>\n",
       "      <th>name</th>\n",
       "      <th>Eye color</th>\n",
       "      <th>Alignment</th>\n",
       "    </tr>\n",
       "  </thead>\n",
       "  <tbody>\n",
       "    <tr>\n",
       "      <th>0</th>\n",
       "      <td>A-Bomb</td>\n",
       "      <td>yellow</td>\n",
       "      <td>good</td>\n",
       "    </tr>\n",
       "    <tr>\n",
       "      <th>1</th>\n",
       "      <td>Abe Sapien</td>\n",
       "      <td>blue</td>\n",
       "      <td>good</td>\n",
       "    </tr>\n",
       "    <tr>\n",
       "      <th>2</th>\n",
       "      <td>Abin Sur</td>\n",
       "      <td>blue</td>\n",
       "      <td>good</td>\n",
       "    </tr>\n",
       "    <tr>\n",
       "      <th>3</th>\n",
       "      <td>Abomination</td>\n",
       "      <td>green</td>\n",
       "      <td>bad</td>\n",
       "    </tr>\n",
       "    <tr>\n",
       "      <th>4</th>\n",
       "      <td>Abraxas</td>\n",
       "      <td>blue</td>\n",
       "      <td>bad</td>\n",
       "    </tr>\n",
       "    <tr>\n",
       "      <th>...</th>\n",
       "      <td>...</td>\n",
       "      <td>...</td>\n",
       "      <td>...</td>\n",
       "    </tr>\n",
       "    <tr>\n",
       "      <th>729</th>\n",
       "      <td>Yellowjacket II</td>\n",
       "      <td>blue</td>\n",
       "      <td>good</td>\n",
       "    </tr>\n",
       "    <tr>\n",
       "      <th>730</th>\n",
       "      <td>Ymir</td>\n",
       "      <td>white</td>\n",
       "      <td>good</td>\n",
       "    </tr>\n",
       "    <tr>\n",
       "      <th>731</th>\n",
       "      <td>Yoda</td>\n",
       "      <td>brown</td>\n",
       "      <td>good</td>\n",
       "    </tr>\n",
       "    <tr>\n",
       "      <th>732</th>\n",
       "      <td>Zatanna</td>\n",
       "      <td>blue</td>\n",
       "      <td>good</td>\n",
       "    </tr>\n",
       "    <tr>\n",
       "      <th>733</th>\n",
       "      <td>Zoom</td>\n",
       "      <td>red</td>\n",
       "      <td>bad</td>\n",
       "    </tr>\n",
       "  </tbody>\n",
       "</table>\n",
       "<p>734 rows × 3 columns</p>\n",
       "</div>"
      ],
      "text/plain": [
       "                name Eye color Alignment\n",
       "0             A-Bomb    yellow      good\n",
       "1         Abe Sapien      blue      good\n",
       "2           Abin Sur      blue      good\n",
       "3        Abomination     green       bad\n",
       "4            Abraxas      blue       bad\n",
       "..               ...       ...       ...\n",
       "729  Yellowjacket II      blue      good\n",
       "730             Ymir     white      good\n",
       "731             Yoda     brown      good\n",
       "732          Zatanna      blue      good\n",
       "733             Zoom       red       bad\n",
       "\n",
       "[734 rows x 3 columns]"
      ]
     },
     "execution_count": 6,
     "metadata": {},
     "output_type": "execute_result"
    }
   ],
   "source": [
    "# CodeGrade step1\n",
    "# Replace None with appropriate code\n",
    "#, 'Race', 'Hair color', 'Height', 'Publisher','Skin color', 'Weight'\n",
    "\n",
    "df.drop(['Gender', 'Race', 'Hair color', 'Height', 'Publisher','Skin color', 'Weight'],\n",
    "             axis=1, inplace=True)\n",
    "#df = df[relevant_colums]\n",
    "#df.drop([columns = 'Gender', 'Hair color', 'Height', 'Publisher','Skin color', 'Weight'])\n",
    "#df = df.loc[:, relevant_columns]\n",
    "\n",
    "df"
   ]
  },
  {
   "cell_type": "code",
   "execution_count": 7,
   "metadata": {},
   "outputs": [
    {
     "data": {
      "text/plain": [
       "(734, 3)"
      ]
     },
     "execution_count": 7,
     "metadata": {},
     "output_type": "execute_result"
    }
   ],
   "source": [
    "df.shape"
   ]
  },
  {
   "cell_type": "code",
   "execution_count": 8,
   "metadata": {},
   "outputs": [],
   "source": [
    "# df should now have 734 rows and 3 columns\n",
    "assert df.shape == (734, 3)"
   ]
  },
  {
   "cell_type": "markdown",
   "metadata": {
    "nbgrader": {
     "grade": false,
     "grade_id": "cell-bd0dd4d8de147e87",
     "locked": true,
     "schema_version": 3,
     "solution": false,
     "task": false
    }
   },
   "source": [
    "## 2. Filter Data to Relevant Rows\n",
    "\n",
    "Now, modify `df` so that it only contains rows where `Alignment` is `\"good\"`.\n",
    "\n",
    "When you are finished with this question, `df` should still have 3 columns, but fewer rows."
   ]
  },
  {
   "cell_type": "code",
   "execution_count": 9,
   "metadata": {},
   "outputs": [
    {
     "data": {
      "text/html": [
       "<div>\n",
       "<style scoped>\n",
       "    .dataframe tbody tr th:only-of-type {\n",
       "        vertical-align: middle;\n",
       "    }\n",
       "\n",
       "    .dataframe tbody tr th {\n",
       "        vertical-align: top;\n",
       "    }\n",
       "\n",
       "    .dataframe thead th {\n",
       "        text-align: right;\n",
       "    }\n",
       "</style>\n",
       "<table border=\"1\" class=\"dataframe\">\n",
       "  <thead>\n",
       "    <tr style=\"text-align: right;\">\n",
       "      <th></th>\n",
       "      <th>name</th>\n",
       "      <th>Eye color</th>\n",
       "      <th>Alignment</th>\n",
       "    </tr>\n",
       "  </thead>\n",
       "  <tbody>\n",
       "    <tr>\n",
       "      <th>0</th>\n",
       "      <td>A-Bomb</td>\n",
       "      <td>yellow</td>\n",
       "      <td>good</td>\n",
       "    </tr>\n",
       "    <tr>\n",
       "      <th>1</th>\n",
       "      <td>Abe Sapien</td>\n",
       "      <td>blue</td>\n",
       "      <td>good</td>\n",
       "    </tr>\n",
       "    <tr>\n",
       "      <th>2</th>\n",
       "      <td>Abin Sur</td>\n",
       "      <td>blue</td>\n",
       "      <td>good</td>\n",
       "    </tr>\n",
       "    <tr>\n",
       "      <th>6</th>\n",
       "      <td>Adam Monroe</td>\n",
       "      <td>blue</td>\n",
       "      <td>good</td>\n",
       "    </tr>\n",
       "    <tr>\n",
       "      <th>7</th>\n",
       "      <td>Adam Strange</td>\n",
       "      <td>blue</td>\n",
       "      <td>good</td>\n",
       "    </tr>\n",
       "    <tr>\n",
       "      <th>...</th>\n",
       "      <td>...</td>\n",
       "      <td>...</td>\n",
       "      <td>...</td>\n",
       "    </tr>\n",
       "    <tr>\n",
       "      <th>728</th>\n",
       "      <td>Yellowjacket</td>\n",
       "      <td>blue</td>\n",
       "      <td>good</td>\n",
       "    </tr>\n",
       "    <tr>\n",
       "      <th>729</th>\n",
       "      <td>Yellowjacket II</td>\n",
       "      <td>blue</td>\n",
       "      <td>good</td>\n",
       "    </tr>\n",
       "    <tr>\n",
       "      <th>730</th>\n",
       "      <td>Ymir</td>\n",
       "      <td>white</td>\n",
       "      <td>good</td>\n",
       "    </tr>\n",
       "    <tr>\n",
       "      <th>731</th>\n",
       "      <td>Yoda</td>\n",
       "      <td>brown</td>\n",
       "      <td>good</td>\n",
       "    </tr>\n",
       "    <tr>\n",
       "      <th>732</th>\n",
       "      <td>Zatanna</td>\n",
       "      <td>blue</td>\n",
       "      <td>good</td>\n",
       "    </tr>\n",
       "  </tbody>\n",
       "</table>\n",
       "<p>496 rows × 3 columns</p>\n",
       "</div>"
      ],
      "text/plain": [
       "                name Eye color Alignment\n",
       "0             A-Bomb    yellow      good\n",
       "1         Abe Sapien      blue      good\n",
       "2           Abin Sur      blue      good\n",
       "6        Adam Monroe      blue      good\n",
       "7       Adam Strange      blue      good\n",
       "..               ...       ...       ...\n",
       "728     Yellowjacket      blue      good\n",
       "729  Yellowjacket II      blue      good\n",
       "730             Ymir     white      good\n",
       "731             Yoda     brown      good\n",
       "732          Zatanna      blue      good\n",
       "\n",
       "[496 rows x 3 columns]"
      ]
     },
     "execution_count": 9,
     "metadata": {},
     "output_type": "execute_result"
    }
   ],
   "source": [
    "# CodeGrade step2\n",
    "# Replace None with appropriate code\n",
    "\n",
    "df = df.loc[df['Alignment'] == 'good']\n",
    "\n",
    "df"
   ]
  },
  {
   "cell_type": "code",
   "execution_count": 10,
   "metadata": {},
   "outputs": [],
   "source": [
    "# df should now have 496 rows and 3 columns\n",
    "assert df.shape == (496, 3)"
   ]
  },
  {
   "cell_type": "markdown",
   "metadata": {
    "nbgrader": {
     "grade": false,
     "grade_id": "cell-52ef838f067405f0",
     "locked": true,
     "schema_version": 3,
     "solution": false,
     "task": false
    }
   },
   "source": [
    "## 3. Drop Rows with Missing Values\n",
    "\n",
    "Now that all rows in the dataset are superheroes (alignment of \"good\"), note that we are missing the eye color for some of them:"
   ]
  },
  {
   "cell_type": "code",
   "execution_count": 11,
   "metadata": {
    "nbgrader": {
     "grade": false,
     "grade_id": "cell-6462aa8a3e397959",
     "locked": true,
     "schema_version": 3,
     "solution": false,
     "task": false
    }
   },
   "outputs": [
    {
     "name": "stdout",
     "output_type": "stream",
     "text": [
      "<class 'pandas.core.frame.DataFrame'>\n",
      "Int64Index: 496 entries, 0 to 732\n",
      "Data columns (total 3 columns):\n",
      " #   Column     Non-Null Count  Dtype \n",
      "---  ------     --------------  ----- \n",
      " 0   name       496 non-null    object\n",
      " 1   Eye color  378 non-null    object\n",
      " 2   Alignment  496 non-null    object\n",
      "dtypes: object(3)\n",
      "memory usage: 15.5+ KB\n"
     ]
    }
   ],
   "source": [
    "# Run this cell without changes\n",
    "df.info()"
   ]
  },
  {
   "cell_type": "markdown",
   "metadata": {
    "nbgrader": {
     "grade": false,
     "grade_id": "cell-f85f004615994ce8",
     "locked": true,
     "schema_version": 3,
     "solution": false,
     "task": false
    }
   },
   "source": [
    "Modify `df` so that it only contains rows where `Eye color` is not missing (i.e. is not NaN).\n",
    "\n",
    "Again, when you are finished with this question, `df` should still have 3 columns, but fewer rows again."
   ]
  },
  {
   "cell_type": "code",
   "execution_count": 12,
   "metadata": {
    "scrolled": true
   },
   "outputs": [
    {
     "data": {
      "text/plain": [
       "118"
      ]
     },
     "execution_count": 12,
     "metadata": {},
     "output_type": "execute_result"
    }
   ],
   "source": [
    "sum(df['Eye color'].isna())"
   ]
  },
  {
   "cell_type": "code",
   "execution_count": 13,
   "metadata": {},
   "outputs": [
    {
     "data": {
      "text/plain": [
       "name           0\n",
       "Eye color    118\n",
       "Alignment      0\n",
       "dtype: int64"
      ]
     },
     "execution_count": 13,
     "metadata": {},
     "output_type": "execute_result"
    }
   ],
   "source": [
    "df.isna().sum()"
   ]
  },
  {
   "cell_type": "code",
   "execution_count": 14,
   "metadata": {
    "scrolled": true
   },
   "outputs": [
    {
     "data": {
      "text/html": [
       "<div>\n",
       "<style scoped>\n",
       "    .dataframe tbody tr th:only-of-type {\n",
       "        vertical-align: middle;\n",
       "    }\n",
       "\n",
       "    .dataframe tbody tr th {\n",
       "        vertical-align: top;\n",
       "    }\n",
       "\n",
       "    .dataframe thead th {\n",
       "        text-align: right;\n",
       "    }\n",
       "</style>\n",
       "<table border=\"1\" class=\"dataframe\">\n",
       "  <thead>\n",
       "    <tr style=\"text-align: right;\">\n",
       "      <th></th>\n",
       "      <th>name</th>\n",
       "      <th>Eye color</th>\n",
       "      <th>Alignment</th>\n",
       "    </tr>\n",
       "  </thead>\n",
       "  <tbody>\n",
       "    <tr>\n",
       "      <th>0</th>\n",
       "      <td>A-Bomb</td>\n",
       "      <td>yellow</td>\n",
       "      <td>good</td>\n",
       "    </tr>\n",
       "    <tr>\n",
       "      <th>1</th>\n",
       "      <td>Abe Sapien</td>\n",
       "      <td>blue</td>\n",
       "      <td>good</td>\n",
       "    </tr>\n",
       "    <tr>\n",
       "      <th>2</th>\n",
       "      <td>Abin Sur</td>\n",
       "      <td>blue</td>\n",
       "      <td>good</td>\n",
       "    </tr>\n",
       "    <tr>\n",
       "      <th>6</th>\n",
       "      <td>Adam Monroe</td>\n",
       "      <td>blue</td>\n",
       "      <td>good</td>\n",
       "    </tr>\n",
       "    <tr>\n",
       "      <th>7</th>\n",
       "      <td>Adam Strange</td>\n",
       "      <td>blue</td>\n",
       "      <td>good</td>\n",
       "    </tr>\n",
       "    <tr>\n",
       "      <th>...</th>\n",
       "      <td>...</td>\n",
       "      <td>...</td>\n",
       "      <td>...</td>\n",
       "    </tr>\n",
       "    <tr>\n",
       "      <th>728</th>\n",
       "      <td>Yellowjacket</td>\n",
       "      <td>blue</td>\n",
       "      <td>good</td>\n",
       "    </tr>\n",
       "    <tr>\n",
       "      <th>729</th>\n",
       "      <td>Yellowjacket II</td>\n",
       "      <td>blue</td>\n",
       "      <td>good</td>\n",
       "    </tr>\n",
       "    <tr>\n",
       "      <th>730</th>\n",
       "      <td>Ymir</td>\n",
       "      <td>white</td>\n",
       "      <td>good</td>\n",
       "    </tr>\n",
       "    <tr>\n",
       "      <th>731</th>\n",
       "      <td>Yoda</td>\n",
       "      <td>brown</td>\n",
       "      <td>good</td>\n",
       "    </tr>\n",
       "    <tr>\n",
       "      <th>732</th>\n",
       "      <td>Zatanna</td>\n",
       "      <td>blue</td>\n",
       "      <td>good</td>\n",
       "    </tr>\n",
       "  </tbody>\n",
       "</table>\n",
       "<p>378 rows × 3 columns</p>\n",
       "</div>"
      ],
      "text/plain": [
       "                name Eye color Alignment\n",
       "0             A-Bomb    yellow      good\n",
       "1         Abe Sapien      blue      good\n",
       "2           Abin Sur      blue      good\n",
       "6        Adam Monroe      blue      good\n",
       "7       Adam Strange      blue      good\n",
       "..               ...       ...       ...\n",
       "728     Yellowjacket      blue      good\n",
       "729  Yellowjacket II      blue      good\n",
       "730             Ymir     white      good\n",
       "731             Yoda     brown      good\n",
       "732          Zatanna      blue      good\n",
       "\n",
       "[378 rows x 3 columns]"
      ]
     },
     "execution_count": 14,
     "metadata": {},
     "output_type": "execute_result"
    }
   ],
   "source": [
    "# CodeGrade step3\n",
    "# Replace None with appropriate code\n",
    "\n",
    "df = df.dropna(subset=['Eye color'])\n",
    "\n",
    "df"
   ]
  },
  {
   "cell_type": "code",
   "execution_count": 15,
   "metadata": {},
   "outputs": [
    {
     "data": {
      "text/plain": [
       "name         0\n",
       "Eye color    0\n",
       "Alignment    0\n",
       "dtype: int64"
      ]
     },
     "execution_count": 15,
     "metadata": {},
     "output_type": "execute_result"
    }
   ],
   "source": [
    "df.isna().sum()"
   ]
  },
  {
   "cell_type": "code",
   "execution_count": 16,
   "metadata": {},
   "outputs": [],
   "source": [
    "# df should now have 378 rows and 3 columns\n",
    "assert df.shape == (378, 3)"
   ]
  },
  {
   "cell_type": "markdown",
   "metadata": {
    "nbgrader": {
     "grade": false,
     "grade_id": "cell-af9625f4b0e12775",
     "locked": true,
     "schema_version": 3,
     "solution": false,
     "task": false
    }
   },
   "source": [
    "## 4. Find the Top 5 Most Common Eye Colors\n",
    "\n",
    "Create a variable `top_eye_colors` that represents the top 5 most common eye colors in the dataset. Then create a variable `top_eye_color_counts` that represents the corresponding frequencies.\n",
    "\n",
    "`top_eye_colors` should be a list of strings, ordered from the most common to the 5th most common. `top_eye_color_counts` should be a list of integers, ordered from the highest count to the 5th highest.\n",
    "\n",
    "***Hint:*** If you have a list-like data structure (e.g. a pandas series or NumPy array), you can easily convert it to a Python list using `list()`."
   ]
  },
  {
   "cell_type": "code",
   "execution_count": 17,
   "metadata": {},
   "outputs": [
    {
     "data": {
      "text/plain": [
       "Index(['blue', 'brown', 'green', 'red', 'white'], dtype='object')"
      ]
     },
     "execution_count": 17,
     "metadata": {},
     "output_type": "execute_result"
    }
   ],
   "source": [
    "df['Eye color'].value_counts().index[0:5]"
   ]
  },
  {
   "cell_type": "code",
   "execution_count": 18,
   "metadata": {
    "nbgrader": {
     "grade": false,
     "grade_id": "cell-a98fb450d5f9d47d",
     "locked": false,
     "schema_version": 3,
     "solution": true,
     "task": false
    }
   },
   "outputs": [
    {
     "name": "stdout",
     "output_type": "stream",
     "text": [
      "Colors: ['blue', 'brown', 'green', 'red', 'white']\n",
      "Counts: [167, 86, 51, 19, 12]\n"
     ]
    }
   ],
   "source": [
    "# CodeGrade step4\n",
    "# Replace None with appropriate code\n",
    "\n",
    "top_eye_colors = list(df['Eye color'].value_counts().index[0:5])\n",
    "top_eye_color_counts = list(df['Eye color'].value_counts()[0:5])\n",
    "\n",
    "print(\"Colors:\", top_eye_colors)\n",
    "print(\"Counts:\", top_eye_color_counts)"
   ]
  },
  {
   "cell_type": "code",
   "execution_count": 19,
   "metadata": {},
   "outputs": [],
   "source": [
    "# top_eye_colors should be a list of strings\n",
    "assert type(top_eye_colors) == list\n",
    "assert type(top_eye_colors[0]) == str\n",
    "\n",
    "# There should be 5 eye colors in top_eye_colors\n",
    "assert len(top_eye_colors) == 5\n",
    "\n",
    "# \"blue\" should be one of the eye colors in the list\n",
    "assert \"blue\" in top_eye_colors"
   ]
  },
  {
   "cell_type": "code",
   "execution_count": 20,
   "metadata": {},
   "outputs": [],
   "source": [
    "# top_eye_color_counts should be a list of integers\n",
    "assert type(top_eye_color_counts) == list\n",
    "assert type(top_eye_color_counts[0]) == int or type(top_eye_color_counts[0]) == np.int64\n",
    "\n",
    "# There should be 5 values in top_eye_color_counts\n",
    "assert len(top_eye_color_counts) == 5\n",
    "\n",
    "# 167 should be one of the counts in the list\n",
    "assert 167 in top_eye_color_counts"
   ]
  },
  {
   "cell_type": "markdown",
   "metadata": {
    "nbgrader": {
     "grade": false,
     "grade_id": "cell-0cbdc64250c9524e",
     "locked": true,
     "schema_version": 3,
     "solution": false,
     "task": false
    }
   },
   "source": [
    "## 5. Plot a Bar Chart of Popular Eye Colors\n",
    "\n",
    "Create a matplotlib figure called `fig` containing a labeled bar chart with the number of superheroes who have each of the top 5 most popular eye colors (as encoded in `top_eye_colors` and `top_eye_color_counts`). You can find bar chart documentation [here](https://matplotlib.org/stable/api/_as_gen/matplotlib.axes.Axes.bar.html#matplotlib.axes.Axes.bar).\n",
    "\n",
    "### Alternative Data\n",
    "\n",
    "If you were not able to complete the previous question, you can use these hard-coded eye colors:\n",
    "\n",
    "```\n",
    "red\n",
    "orange\n",
    "yellow\n",
    "green\n",
    "blue\n",
    "```\n",
    "\n",
    "And these hard-coded counts:\n",
    "\n",
    "```\n",
    "46\n",
    "2\n",
    "19\n",
    "73\n",
    "167\n",
    "```\n",
    "\n",
    "***Note:*** there is no need to use the above values if you were able to complete the previous question and you have valid `top_eye_colors` and `top_eye_color_counts` variables.\n",
    "\n",
    "### Starter Code\n",
    "\n",
    "The starter code creates a figure called `fig` and axes called `ax`. Use those variables in your solution in order to pass the test.\n",
    "\n",
    "**DO NOT** use the `df.plot` interface to answer this question. Use the `fig` and `ax` variables provided.\n",
    "\n",
    "Set the *axes* title to `bar_chart_title` specified below."
   ]
  },
  {
   "cell_type": "code",
   "execution_count": 21,
   "metadata": {
    "nbgrader": {
     "grade": false,
     "grade_id": "cell-143d320c2f71e081",
     "locked": false,
     "schema_version": 3,
     "solution": true,
     "task": false
    }
   },
   "outputs": [
    {
     "data": {
      "text/plain": [
       "Text(0.5, 1.0, 'Top 5 Eye Colors')"
      ]
     },
     "execution_count": 21,
     "metadata": {},
     "output_type": "execute_result"
    },
    {
     "data": {
      "image/png": "[encoded data removed]",
      "text/plain": [
       "<Figure size 432x288 with 1 Axes>"
      ]
     },
     "metadata": {
      "needs_background": "light"
     },
     "output_type": "display_data"
    }
   ],
   "source": [
    "# CodeGrade step5\n",
    "\n",
    "bar_chart_title = \"Top 5 Most Common Superhero Eye Colors\"\n",
    "\n",
    "fig, ax = plt.subplots()\n",
    "\n",
    "# Your code here\n",
    "\n",
    "x = top_eye_colors\n",
    "y = top_eye_color_counts\n",
    "\n",
    "ax.bar(x, y)\n",
    "\n",
    "ax.tick_params(axis=\"x\", labelrotation=45)\n",
    "ax.set_ylabel(\"Count of Superheroes With Eye Color\")\n",
    "ax.set_title(\"Top 5 Eye Colors\")\n"
   ]
  },
  {
   "cell_type": "code",
   "execution_count": 22,
   "metadata": {},
   "outputs": [],
   "source": [
    "# The axis should contain 5 bars\n",
    "assert len(ax.containers[0]) == 5\n",
    "\n",
    "# One of the x tick labels should be \"blue\"\n",
    "tick_text = [tick.get_text() for tick in ax.get_xticklabels()]\n",
    "assert \"blue\" in tick_text"
   ]
  },
  {
   "cell_type": "code",
   "execution_count": null,
   "metadata": {},
   "outputs": [],
   "source": []
  }
 ],
 "metadata": {
  "celltoolbar": "Create Assignment",
  "kernelspec": {
   "display_name": "Python (learn-env)",
   "language": "python",
   "name": "learn-env"
  },
  "language_info": {
   "codemirror_mode": {
    "name": "ipython",
    "version": 3
   },
   "file_extension": ".py",
   "mimetype": "text/x-python",
   "name": "python",
   "nbconvert_exporter": "python",
   "pygments_lexer": "ipython3",
   "version": "3.8.5"
  }
 },
 "nbformat": 4,
 "nbformat_minor": 4
}
