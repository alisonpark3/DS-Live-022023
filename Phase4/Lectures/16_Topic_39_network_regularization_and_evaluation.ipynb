{
 "cells": [
  {
   "cell_type": "markdown",
   "metadata": {
    "slideshow": {
     "slide_type": "slide"
    }
   },
   "source": [
    "# Regularization and Evaluation of Neural Networks"
   ]
  },
  {
   "cell_type": "code",
   "execution_count": 1,
   "metadata": {},
   "outputs": [],
   "source": [
    "from sklearn.datasets import load_sample_images\n",
    "from sklearn.datasets import load_digits\n",
    "from sklearn.model_selection import train_test_split, cross_val_score\n",
    "from sklearn.preprocessing import OneHotEncoder\n",
    "from sklearn.metrics import accuracy_score, confusion_matrix\n",
    "import matplotlib.pyplot as plt\n",
    "import matplotlib.image as mpimg\n",
    "import numpy as np\n",
    "import seaborn as sns\n",
    "\n",
    "from tensorflow.keras.models import Sequential\n",
    "from tensorflow.keras.layers import Dense, Dropout\n",
    "from tensorflow.keras.regularizers import l2\n",
    "from tensorflow.keras.optimizers import SGD\n",
    "from tensorflow.keras.wrappers import scikit_learn\n",
    "from tensorflow.keras.callbacks import EarlyStopping\n",
    "\n",
    "import os\n",
    "import sys\n",
    "module_path = os.path.abspath(os.path.join(os.pardir, os.pardir))\n",
    "if module_path not in sys.path:\n",
    "    sys.path.append(module_path)\n",
    "    \n",
    "%load_ext autoreload\n",
    "%autoreload 2"
   ]
  },
  {
   "cell_type": "markdown",
   "metadata": {},
   "source": [
    "## Learning Objectives\n",
    "\n",
    "- use `keras` to code up a neural network model;\n",
    "- explain dropout and early stopping as distinctive forms of regularization in neural networks;\n",
    "- use wrappers inside `keras` to make models that can jibe with `sklearn`."
   ]
  },
  {
   "cell_type": "markdown",
   "metadata": {},
   "source": [
    "### From last time"
   ]
  },
  {
   "cell_type": "code",
   "execution_count": 4,
   "metadata": {},
   "outputs": [],
   "source": [
    "digits = load_digits()\n",
    "X = digits.data.astype('float32')\n",
    "y = digits.target.astype('float32')\n",
    "\n",
    "y_binary = y % 2"
   ]
  },
  {
   "cell_type": "code",
   "execution_count": 5,
   "metadata": {},
   "outputs": [
    {
     "name": "stdout",
     "output_type": "stream",
     "text": [
      "Epoch 1/50\n",
      "5/5 [==============================] - 0s 2ms/step - loss: 1.2736 - accuracy: 0.5799\n",
      "Epoch 2/50\n",
      "5/5 [==============================] - 0s 7ms/step - loss: 0.8917 - accuracy: 0.6249\n",
      "Epoch 3/50\n",
      "5/5 [==============================] - 0s 6ms/step - loss: 0.7643 - accuracy: 0.6700\n",
      "Epoch 4/50\n",
      "5/5 [==============================] - 0s 2ms/step - loss: 0.6793 - accuracy: 0.7040\n",
      "Epoch 5/50\n",
      "5/5 [==============================] - 0s 2ms/step - loss: 0.6190 - accuracy: 0.7229\n",
      "Epoch 6/50\n",
      "5/5 [==============================] - 0s 4ms/step - loss: 0.5747 - accuracy: 0.7440\n",
      "Epoch 7/50\n",
      "5/5 [==============================] - 0s 2ms/step - loss: 0.5359 - accuracy: 0.7574\n",
      "Epoch 8/50\n",
      "5/5 [==============================] - 0s 3ms/step - loss: 0.5059 - accuracy: 0.7702\n",
      "Epoch 9/50\n",
      "5/5 [==============================] - 0s 3ms/step - loss: 0.4775 - accuracy: 0.7852\n",
      "Epoch 10/50\n",
      "5/5 [==============================] - 0s 2ms/step - loss: 0.4539 - accuracy: 0.7935\n",
      "Epoch 11/50\n",
      "5/5 [==============================] - 0s 2ms/step - loss: 0.4284 - accuracy: 0.8036\n",
      "Epoch 12/50\n",
      "5/5 [==============================] - 0s 3ms/step - loss: 0.4054 - accuracy: 0.8219\n",
      "Epoch 13/50\n",
      "5/5 [==============================] - 0s 3ms/step - loss: 0.3848 - accuracy: 0.8303\n",
      "Epoch 14/50\n",
      "5/5 [==============================] - 0s 3ms/step - loss: 0.3651 - accuracy: 0.8414\n",
      "Epoch 15/50\n",
      "5/5 [==============================] - 0s 3ms/step - loss: 0.3460 - accuracy: 0.8509\n",
      "Epoch 16/50\n",
      "5/5 [==============================] - 0s 3ms/step - loss: 0.3272 - accuracy: 0.8581\n",
      "Epoch 17/50\n",
      "5/5 [==============================] - 0s 4ms/step - loss: 0.3117 - accuracy: 0.8664\n",
      "Epoch 18/50\n",
      "5/5 [==============================] - 0s 1ms/step - loss: 0.2968 - accuracy: 0.8720\n",
      "Epoch 19/50\n",
      "5/5 [==============================] - 0s 4ms/step - loss: 0.2828 - accuracy: 0.8770\n",
      "Epoch 20/50\n",
      "5/5 [==============================] - 0s 2ms/step - loss: 0.2680 - accuracy: 0.8870\n",
      "Epoch 21/50\n",
      "5/5 [==============================] - 0s 2ms/step - loss: 0.2571 - accuracy: 0.8932\n",
      "Epoch 22/50\n",
      "5/5 [==============================] - 0s 2ms/step - loss: 0.2459 - accuracy: 0.8948\n",
      "Epoch 23/50\n",
      "5/5 [==============================] - 0s 3ms/step - loss: 0.2381 - accuracy: 0.9021\n",
      "Epoch 24/50\n",
      "5/5 [==============================] - 0s 2ms/step - loss: 0.2250 - accuracy: 0.9071\n",
      "Epoch 25/50\n",
      "5/5 [==============================] - 0s 3ms/step - loss: 0.2188 - accuracy: 0.9082\n",
      "Epoch 26/50\n",
      "5/5 [==============================] - 0s 2ms/step - loss: 0.2084 - accuracy: 0.9132\n",
      "Epoch 27/50\n",
      "5/5 [==============================] - 0s 3ms/step - loss: 0.1989 - accuracy: 0.9171\n",
      "Epoch 28/50\n",
      "5/5 [==============================] - 0s 2ms/step - loss: 0.1941 - accuracy: 0.9149\n",
      "Epoch 29/50\n",
      "5/5 [==============================] - 0s 5ms/step - loss: 0.1849 - accuracy: 0.9193\n",
      "Epoch 30/50\n",
      "5/5 [==============================] - 0s 2ms/step - loss: 0.1773 - accuracy: 0.9232\n",
      "Epoch 31/50\n",
      "5/5 [==============================] - 0s 3ms/step - loss: 0.1689 - accuracy: 0.9271\n",
      "Epoch 32/50\n",
      "5/5 [==============================] - 0s 2ms/step - loss: 0.1639 - accuracy: 0.9321\n",
      "Epoch 33/50\n",
      "5/5 [==============================] - 0s 3ms/step - loss: 0.1614 - accuracy: 0.9316\n",
      "Epoch 34/50\n",
      "5/5 [==============================] - 0s 3ms/step - loss: 0.1523 - accuracy: 0.9393\n",
      "Epoch 35/50\n",
      "5/5 [==============================] - 0s 3ms/step - loss: 0.1477 - accuracy: 0.9421\n",
      "Epoch 36/50\n",
      "5/5 [==============================] - 0s 6ms/step - loss: 0.1438 - accuracy: 0.9432\n",
      "Epoch 37/50\n",
      "5/5 [==============================] - 0s 4ms/step - loss: 0.1432 - accuracy: 0.9427\n",
      "Epoch 38/50\n",
      "5/5 [==============================] - 0s 3ms/step - loss: 0.1346 - accuracy: 0.9477\n",
      "Epoch 39/50\n",
      "5/5 [==============================] - 0s 4ms/step - loss: 0.1316 - accuracy: 0.9471\n",
      "Epoch 40/50\n",
      "5/5 [==============================] - 0s 17ms/step - loss: 0.1280 - accuracy: 0.9482\n",
      "Epoch 41/50\n",
      "5/5 [==============================] - 0s 4ms/step - loss: 0.1268 - accuracy: 0.9499\n",
      "Epoch 42/50\n",
      "5/5 [==============================] - 0s 2ms/step - loss: 0.1219 - accuracy: 0.9499\n",
      "Epoch 43/50\n",
      "5/5 [==============================] - 0s 4ms/step - loss: 0.1179 - accuracy: 0.9538\n",
      "Epoch 44/50\n",
      "5/5 [==============================] - 0s 3ms/step - loss: 0.1149 - accuracy: 0.9544\n",
      "Epoch 45/50\n",
      "5/5 [==============================] - 0s 3ms/step - loss: 0.1128 - accuracy: 0.9505\n",
      "Epoch 46/50\n",
      "5/5 [==============================] - 0s 2ms/step - loss: 0.1095 - accuracy: 0.9544\n",
      "Epoch 47/50\n",
      "5/5 [==============================] - 0s 3ms/step - loss: 0.1092 - accuracy: 0.9560\n",
      "Epoch 48/50\n",
      "5/5 [==============================] - 0s 2ms/step - loss: 0.1064 - accuracy: 0.9560\n",
      "Epoch 49/50\n",
      "5/5 [==============================] - 0s 3ms/step - loss: 0.1054 - accuracy: 0.9577\n",
      "Epoch 50/50\n",
      "5/5 [==============================] - 0s 2ms/step - loss: 0.0995 - accuracy: 0.9605\n"
     ]
    },
    {
     "data": {
      "text/plain": [
       "<tensorflow.python.keras.callbacks.History at 0x7f8328e08670>"
      ]
     },
     "execution_count": 5,
     "metadata": {},
     "output_type": "execute_result"
    }
   ],
   "source": [
    "model = Sequential()\n",
    "model.add(Dense(12, activation='relu', input_dim=64))\n",
    "model.add(Dense(8, activation='relu'))\n",
    "model.add(Dense(1, activation='sigmoid'))\n",
    "\n",
    "model.compile(optimizer='rmsprop', \n",
    "             loss='binary_crossentropy', \n",
    "             metrics=['accuracy'])\n",
    "\n",
    "model.fit(X, y_binary, epochs=50, batch_size=360)"
   ]
  },
  {
   "cell_type": "markdown",
   "metadata": {},
   "source": [
    "1. `model = Sequential()`: This line creates a new neural network model using the Keras Sequential API. This API allows you to create a neural network by simply adding layers in sequence.\n",
    "\n",
    "2. `model.add(Dense(12, activation='relu', input_dim=64))`: This line adds a new layer to the model. The layer is a dense layer, which means that each neuron in the layer is connected to every neuron in the previous layer. The layer has 12 neurons, an input dimension of 64, and uses the ReLU activation function. The input dimension represents the number of features in your data, in this case, 64.\n",
    "\n",
    "3. `model.add(Dense(8, activation='relu'))`: This line adds another dense layer to the model with 8 neurons and the ReLU activation function. The input dimensions for this layer are automatically inferred from the previous layer.\n",
    "\n",
    "4. `model.add(Dense(1, activation='sigmoid'))`: This line adds a final dense layer to the model with 1 neuron and the sigmoid activation function. This layer is the output layer of the network and will give us a prediction between 0 and 1.\n",
    "\n",
    "5. `model.compile(optimizer='rmsprop', loss='binary_crossentropy', metrics=['accuracy'])`: This line compiles the model with the chosen optimizer, loss function, and metric. Here, we are using the RMSprop optimizer, binary cross-entropy as the loss function, and accuracy as the metric to evaluate the performance of the model.\n",
    "\n",
    "6. `model.fit(X, y_binary, epochs=50, batch_size=360)`: This line trains the model using the fit() function. The training data (X) and its corresponding binary labels (y_binary) are passed as inputs. The model will be trained for 50 epochs, which means it will go through the entire dataset 50 times. The batch size is set to 360, which means the model will update its weights every 360 samples."
   ]
  },
  {
   "cell_type": "markdown",
   "metadata": {},
   "source": [
    "### Things to know:\n",
    "\n",
    "- The data and labels in `fit()` need to be numpy arrays, not `pandas` dfs.\n",
    "- Scaling your data will have a large impact on your model.\n",
    "   > For our traditional input features, we would use a scaler object. For images, as long as the minimum value is 0, we can simply divide through by the maximum pixel intensity."
   ]
  },
  {
   "cell_type": "markdown",
   "metadata": {},
   "source": [
    "#### Getting data ready for modeling\n",
    "**Preprocessing**:\n",
    "\n",
    "- use train_test_split to create X_train, y_train, X_test, and y_test\n",
    "- Split training data into pure_train and validation sets.\n",
    "- Scale the pixel intensity to a value between 0 and 1."
   ]
  },
  {
   "cell_type": "markdown",
   "metadata": {},
   "source": [
    "Scaling our input variables will help speed up our neural network.\n",
    "\n",
    "Since our minimum intensity is 0, we can normalize the inputs by dividing each value by the max value (16)."
   ]
  },
  {
   "cell_type": "code",
   "execution_count": 6,
   "metadata": {},
   "outputs": [],
   "source": [
    "X_train, X_test, y_train, y_test =\\\n",
    "    train_test_split(X, y_binary, random_state=42, test_size=0.2)\n",
    "\n",
    "X_pure_train, X_val, y_pure_train, y_val =\\\n",
    "    train_test_split(X_train, y_train, random_state=42, test_size=0.2)\n",
    "\n",
    "X_pure_train, X_val, X_test = X_pure_train/16, X_val/16, X_test/16"
   ]
  },
  {
   "cell_type": "markdown",
   "metadata": {},
   "source": [
    "For activation, let's start with the familiar sigmoid function, and see how it performs."
   ]
  },
  {
   "cell_type": "code",
   "execution_count": 7,
   "metadata": {},
   "outputs": [
    {
     "name": "stdout",
     "output_type": "stream",
     "text": [
      "Epoch 1/10\n",
      "12/12 [==============================] - 0s 3ms/step - loss: 0.6909 - accuracy: 0.4961\n",
      "Epoch 2/10\n",
      "12/12 [==============================] - 0s 4ms/step - loss: 0.6905 - accuracy: 0.4978\n",
      "Epoch 3/10\n",
      "12/12 [==============================] - 0s 6ms/step - loss: 0.6902 - accuracy: 0.5013\n",
      "Epoch 4/10\n",
      "12/12 [==============================] - 0s 3ms/step - loss: 0.6901 - accuracy: 0.5074\n",
      "Epoch 5/10\n",
      "12/12 [==============================] - 0s 2ms/step - loss: 0.6899 - accuracy: 0.5387\n",
      "Epoch 6/10\n",
      "12/12 [==============================] - 0s 2ms/step - loss: 0.6898 - accuracy: 0.5440\n",
      "Epoch 7/10\n",
      "12/12 [==============================] - 0s 2ms/step - loss: 0.6896 - accuracy: 0.5692\n",
      "Epoch 8/10\n",
      "12/12 [==============================] - 0s 2ms/step - loss: 0.6894 - accuracy: 0.5866\n",
      "Epoch 9/10\n",
      "12/12 [==============================] - 0s 5ms/step - loss: 0.6893 - accuracy: 0.6005\n",
      "Epoch 10/10\n",
      "12/12 [==============================] - 0s 5ms/step - loss: 0.6892 - accuracy: 0.6031\n"
     ]
    }
   ],
   "source": [
    "model = Sequential()\n",
    "# We will start with our trusty sigmoid function.\n",
    "# What does input dimension correspond to?\n",
    "model.add(Dense(12, activation='sigmoid', input_dim=64))\n",
    "model.add(Dense(8, activation='sigmoid'))\n",
    "model.add(Dense(1, activation='sigmoid'))\n",
    "\n",
    "model.compile(optimizer='SGD' ,\n",
    "              # We use binary_crossentropy for a binary loss function\n",
    "              loss='binary_crossentropy',\n",
    "              metrics=['accuracy'])\n",
    "\n",
    "# Assign the variable history to store the results,\n",
    "# and set verbose=1 so we can see the output. To see\n",
    "# only the metrics at the end of each epoch, set verbose=2.\n",
    "results = model.fit(X_pure_train, y_pure_train, epochs=10, \n",
    "                    batch_size=100, verbose=1)"
   ]
  },
  {
   "cell_type": "code",
   "execution_count": null,
   "metadata": {},
   "outputs": [],
   "source": [
    "# we have a vanishing gradient"
   ]
  },
  {
   "cell_type": "markdown",
   "metadata": {},
   "source": [
    "We can access the history of our model via `results.history`.\n",
    "Use __dict__ to take a tour."
   ]
  },
  {
   "cell_type": "code",
   "execution_count": 8,
   "metadata": {},
   "outputs": [
    {
     "data": {
      "text/plain": [
       "{'validation_data': None,\n",
       " 'model': <tensorflow.python.keras.engine.sequential.Sequential at 0x7f83299a3af0>,\n",
       " '_chief_worker_only': None,\n",
       " '_supports_tf_logs': False,\n",
       " 'history': {'loss': [0.6908642649650574,\n",
       "   0.6905080676078796,\n",
       "   0.6902360916137695,\n",
       "   0.6900612711906433,\n",
       "   0.6899005770683289,\n",
       "   0.6897608041763306,\n",
       "   0.6895699501037598,\n",
       "   0.6894248127937317,\n",
       "   0.6892949342727661,\n",
       "   0.6892145872116089],\n",
       "  'accuracy': [0.4960835576057434,\n",
       "   0.49782419204711914,\n",
       "   0.5013054609298706,\n",
       "   0.5073977112770081,\n",
       "   0.5387293100357056,\n",
       "   0.5439512729644775,\n",
       "   0.5691906213760376,\n",
       "   0.5865970253944397,\n",
       "   0.6005222201347351,\n",
       "   0.6031331419944763]},\n",
       " 'params': {'verbose': 1, 'epochs': 10, 'steps': 12},\n",
       " 'epoch': [0, 1, 2, 3, 4, 5, 6, 7, 8, 9]}"
      ]
     },
     "execution_count": 8,
     "metadata": {},
     "output_type": "execute_result"
    }
   ],
   "source": [
    "results.__dict__"
   ]
  },
  {
   "cell_type": "code",
   "execution_count": 9,
   "metadata": {},
   "outputs": [
    {
     "data": {
      "image/png": "[encoded data removed]",
      "text/plain": [
       "<Figure size 720x360 with 2 Axes>"
      ]
     },
     "metadata": {
      "needs_background": "light"
     },
     "output_type": "display_data"
    }
   ],
   "source": [
    "sigmoid_loss = results.history['loss']\n",
    "sigmoid_accuracy = results.history['accuracy']\n",
    "\n",
    "fig, (ax1, ax2) = plt.subplots(1, 2, figsize=(10, 5))\n",
    "sns.lineplot(x=results.epoch, y=sigmoid_loss, ax=ax1, label='loss')\n",
    "sns.lineplot(x=results.epoch, y=sigmoid_accuracy, ax=ax2, \n",
    "             label='accuracy')\n",
    ";"
   ]
  },
  {
   "cell_type": "markdown",
   "metadata": {},
   "source": [
    "We have two plots above both relating to the quality of our model.  The left-hand plot is our loss. It uses the probabilities associated with our predictions to judge how well our prediction fits reality. We want it to decrease as far as possible.\n",
    "\n",
    "The accuracy judges how well the predictions are after applying the threshold at the output layer.  We want accuracy to increase."
   ]
  },
  {
   "cell_type": "markdown",
   "metadata": {},
   "source": [
    "If we look at our loss, it is still decreasing. That is a signal that our model is **still learning**. If our model is still learning, we can allow it to get better by turning a few dials.\n",
    "\n",
    "Let's:\n",
    "- increase the number of epochs;\n",
    "- change sigmoid activation in the hidden layers to ReLU; and\n",
    "- decrease the batch size."
   ]
  },
  {
   "cell_type": "code",
   "execution_count": 10,
   "metadata": {},
   "outputs": [
    {
     "data": {
      "text/plain": [
       "1149"
      ]
     },
     "execution_count": 10,
     "metadata": {},
     "output_type": "execute_result"
    }
   ],
   "source": [
    "X_pure_train.shape[0]"
   ]
  },
  {
   "cell_type": "code",
   "execution_count": 11,
   "metadata": {},
   "outputs": [
    {
     "data": {
      "text/plain": [
       "35.90625"
      ]
     },
     "execution_count": 11,
     "metadata": {},
     "output_type": "execute_result"
    }
   ],
   "source": [
    "# batch size defalut is 32\n",
    "X_pure_train.shape[0] /32"
   ]
  },
  {
   "cell_type": "code",
   "execution_count": 12,
   "metadata": {
    "scrolled": true
   },
   "outputs": [
    {
     "name": "stdout",
     "output_type": "stream",
     "text": [
      "Epoch 1/100\n",
      "36/36 [==============================] - 0s 7ms/step - loss: 0.6808 - accuracy: 0.6075\n",
      "Epoch 2/100\n",
      "36/36 [==============================] - 0s 3ms/step - loss: 0.6727 - accuracy: 0.6484\n",
      "Epoch 3/100\n",
      "36/36 [==============================] - 0s 3ms/step - loss: 0.6657 - accuracy: 0.6815\n",
      "Epoch 4/100\n",
      "36/36 [==============================] - 0s 3ms/step - loss: 0.6589 - accuracy: 0.6728\n",
      "Epoch 5/100\n",
      "36/36 [==============================] - 0s 3ms/step - loss: 0.6514 - accuracy: 0.6867\n",
      "Epoch 6/100\n",
      "36/36 [==============================] - 0s 3ms/step - loss: 0.6429 - accuracy: 0.7006\n",
      "Epoch 7/100\n",
      "36/36 [==============================] - 0s 3ms/step - loss: 0.6332 - accuracy: 0.7032\n",
      "Epoch 8/100\n",
      "36/36 [==============================] - 0s 4ms/step - loss: 0.6223 - accuracy: 0.7232\n",
      "Epoch 9/100\n",
      "36/36 [==============================] - 0s 5ms/step - loss: 0.6100 - accuracy: 0.7328\n",
      "Epoch 10/100\n",
      "36/36 [==============================] - 0s 3ms/step - loss: 0.5958 - accuracy: 0.7441\n",
      "Epoch 11/100\n",
      "36/36 [==============================] - 0s 6ms/step - loss: 0.5797 - accuracy: 0.7572\n",
      "Epoch 12/100\n",
      "36/36 [==============================] - 0s 2ms/step - loss: 0.5608 - accuracy: 0.7737\n",
      "Epoch 13/100\n",
      "36/36 [==============================] - 0s 2ms/step - loss: 0.5397 - accuracy: 0.7911\n",
      "Epoch 14/100\n",
      "36/36 [==============================] - 0s 4ms/step - loss: 0.5173 - accuracy: 0.8033\n",
      "Epoch 15/100\n",
      "36/36 [==============================] - 0s 3ms/step - loss: 0.4940 - accuracy: 0.8103\n",
      "Epoch 16/100\n",
      "36/36 [==============================] - 0s 3ms/step - loss: 0.4718 - accuracy: 0.8164\n",
      "Epoch 17/100\n",
      "36/36 [==============================] - 0s 4ms/step - loss: 0.4491 - accuracy: 0.8303\n",
      "Epoch 18/100\n",
      "36/36 [==============================] - 0s 2ms/step - loss: 0.4276 - accuracy: 0.8407\n",
      "Epoch 19/100\n",
      "36/36 [==============================] - 0s 7ms/step - loss: 0.4081 - accuracy: 0.8486: 0s - loss: 0.3900 - accuracy: \n",
      "Epoch 20/100\n",
      "36/36 [==============================] - 0s 2ms/step - loss: 0.3907 - accuracy: 0.8555\n",
      "Epoch 21/100\n",
      "36/36 [==============================] - 0s 4ms/step - loss: 0.3736 - accuracy: 0.8555\n",
      "Epoch 22/100\n",
      "36/36 [==============================] - 0s 3ms/step - loss: 0.3588 - accuracy: 0.8660\n",
      "Epoch 23/100\n",
      "36/36 [==============================] - 0s 5ms/step - loss: 0.3454 - accuracy: 0.8660\n",
      "Epoch 24/100\n",
      "36/36 [==============================] - 0s 3ms/step - loss: 0.3334 - accuracy: 0.8747\n",
      "Epoch 25/100\n",
      "36/36 [==============================] - 0s 3ms/step - loss: 0.3226 - accuracy: 0.8799\n",
      "Epoch 26/100\n",
      "36/36 [==============================] - 0s 4ms/step - loss: 0.3130 - accuracy: 0.8808\n",
      "Epoch 27/100\n",
      "36/36 [==============================] - 0s 3ms/step - loss: 0.3033 - accuracy: 0.8790\n",
      "Epoch 28/100\n",
      "36/36 [==============================] - 0s 4ms/step - loss: 0.2959 - accuracy: 0.8816\n",
      "Epoch 29/100\n",
      "36/36 [==============================] - 0s 3ms/step - loss: 0.2881 - accuracy: 0.8860\n",
      "Epoch 30/100\n",
      "36/36 [==============================] - 0s 6ms/step - loss: 0.2822 - accuracy: 0.8912\n",
      "Epoch 31/100\n",
      "36/36 [==============================] - 0s 3ms/step - loss: 0.2757 - accuracy: 0.8930\n",
      "Epoch 32/100\n",
      "36/36 [==============================] - 0s 2ms/step - loss: 0.2694 - accuracy: 0.8947\n",
      "Epoch 33/100\n",
      "36/36 [==============================] - 0s 3ms/step - loss: 0.2647 - accuracy: 0.8921\n",
      "Epoch 34/100\n",
      "36/36 [==============================] - 0s 2ms/step - loss: 0.2585 - accuracy: 0.8956\n",
      "Epoch 35/100\n",
      "36/36 [==============================] - 0s 2ms/step - loss: 0.2539 - accuracy: 0.8964\n",
      "Epoch 36/100\n",
      "36/36 [==============================] - 0s 3ms/step - loss: 0.2506 - accuracy: 0.8956\n",
      "Epoch 37/100\n",
      "36/36 [==============================] - 0s 2ms/step - loss: 0.2460 - accuracy: 0.8973\n",
      "Epoch 38/100\n",
      "36/36 [==============================] - 0s 2ms/step - loss: 0.2418 - accuracy: 0.8990\n",
      "Epoch 39/100\n",
      "36/36 [==============================] - 0s 3ms/step - loss: 0.2384 - accuracy: 0.8973\n",
      "Epoch 40/100\n",
      "36/36 [==============================] - 0s 5ms/step - loss: 0.2334 - accuracy: 0.9034\n",
      "Epoch 41/100\n",
      "36/36 [==============================] - 0s 2ms/step - loss: 0.2317 - accuracy: 0.8990\n",
      "Epoch 42/100\n",
      "36/36 [==============================] - 0s 3ms/step - loss: 0.2275 - accuracy: 0.9034\n",
      "Epoch 43/100\n",
      "36/36 [==============================] - 0s 3ms/step - loss: 0.2254 - accuracy: 0.8990\n",
      "Epoch 44/100\n",
      "36/36 [==============================] - 0s 3ms/step - loss: 0.2221 - accuracy: 0.9034\n",
      "Epoch 45/100\n",
      "36/36 [==============================] - 0s 3ms/step - loss: 0.2191 - accuracy: 0.9051\n",
      "Epoch 46/100\n",
      "36/36 [==============================] - 0s 3ms/step - loss: 0.2181 - accuracy: 0.9017\n",
      "Epoch 47/100\n",
      "36/36 [==============================] - 0s 5ms/step - loss: 0.2139 - accuracy: 0.9095\n",
      "Epoch 48/100\n",
      "36/36 [==============================] - 0s 3ms/step - loss: 0.2121 - accuracy: 0.9095\n",
      "Epoch 49/100\n",
      "36/36 [==============================] - 0s 6ms/step - loss: 0.2080 - accuracy: 0.9112\n",
      "Epoch 50/100\n",
      "36/36 [==============================] - 0s 3ms/step - loss: 0.2066 - accuracy: 0.9121\n",
      "Epoch 51/100\n",
      "36/36 [==============================] - 0s 2ms/step - loss: 0.2044 - accuracy: 0.9121\n",
      "Epoch 52/100\n",
      "36/36 [==============================] - 0s 3ms/step - loss: 0.2011 - accuracy: 0.9121\n",
      "Epoch 53/100\n",
      "36/36 [==============================] - 0s 2ms/step - loss: 0.1998 - accuracy: 0.9104\n",
      "Epoch 54/100\n",
      "36/36 [==============================] - 0s 3ms/step - loss: 0.1981 - accuracy: 0.9147\n",
      "Epoch 55/100\n",
      "36/36 [==============================] - 0s 4ms/step - loss: 0.1942 - accuracy: 0.9164\n",
      "Epoch 56/100\n",
      "36/36 [==============================] - 0s 4ms/step - loss: 0.1938 - accuracy: 0.9156\n",
      "Epoch 57/100\n",
      "36/36 [==============================] - 0s 2ms/step - loss: 0.1917 - accuracy: 0.9147\n",
      "Epoch 58/100\n",
      "36/36 [==============================] - 0s 4ms/step - loss: 0.1885 - accuracy: 0.9156\n",
      "Epoch 59/100\n",
      "36/36 [==============================] - 0s 4ms/step - loss: 0.1873 - accuracy: 0.9182\n",
      "Epoch 60/100\n",
      "36/36 [==============================] - 0s 5ms/step - loss: 0.1860 - accuracy: 0.9208\n",
      "Epoch 61/100\n",
      "36/36 [==============================] - 0s 2ms/step - loss: 0.1840 - accuracy: 0.9217\n",
      "Epoch 62/100\n",
      "36/36 [==============================] - 0s 4ms/step - loss: 0.1826 - accuracy: 0.9217\n",
      "Epoch 63/100\n",
      "36/36 [==============================] - 0s 2ms/step - loss: 0.1803 - accuracy: 0.9243\n",
      "Epoch 64/100\n",
      "36/36 [==============================] - 0s 3ms/step - loss: 0.1781 - accuracy: 0.9243\n",
      "Epoch 65/100\n",
      "36/36 [==============================] - 0s 4ms/step - loss: 0.1785 - accuracy: 0.9269\n",
      "Epoch 66/100\n",
      "36/36 [==============================] - 0s 3ms/step - loss: 0.1766 - accuracy: 0.9260\n",
      "Epoch 67/100\n",
      "36/36 [==============================] - 0s 2ms/step - loss: 0.1733 - accuracy: 0.9295\n",
      "Epoch 68/100\n",
      "36/36 [==============================] - 0s 3ms/step - loss: 0.1732 - accuracy: 0.9269\n",
      "Epoch 69/100\n",
      "36/36 [==============================] - 0s 4ms/step - loss: 0.1712 - accuracy: 0.9260\n",
      "Epoch 70/100\n",
      "36/36 [==============================] - 0s 3ms/step - loss: 0.1700 - accuracy: 0.9278\n",
      "Epoch 71/100\n",
      "36/36 [==============================] - 0s 3ms/step - loss: 0.1675 - accuracy: 0.9286\n",
      "Epoch 72/100\n",
      "36/36 [==============================] - 0s 2ms/step - loss: 0.1663 - accuracy: 0.9321\n",
      "Epoch 73/100\n",
      "36/36 [==============================] - 0s 2ms/step - loss: 0.1658 - accuracy: 0.9321\n",
      "Epoch 74/100\n",
      "36/36 [==============================] - 0s 3ms/step - loss: 0.1633 - accuracy: 0.9356\n",
      "Epoch 75/100\n",
      "36/36 [==============================] - 0s 3ms/step - loss: 0.1608 - accuracy: 0.9373\n",
      "Epoch 76/100\n",
      "36/36 [==============================] - 0s 3ms/step - loss: 0.1610 - accuracy: 0.9339\n",
      "Epoch 77/100\n",
      "36/36 [==============================] - 0s 4ms/step - loss: 0.1590 - accuracy: 0.9382\n",
      "Epoch 78/100\n",
      "36/36 [==============================] - 0s 2ms/step - loss: 0.1587 - accuracy: 0.9373\n",
      "Epoch 79/100\n",
      "36/36 [==============================] - 0s 2ms/step - loss: 0.1582 - accuracy: 0.9347\n",
      "Epoch 80/100\n",
      "36/36 [==============================] - 0s 3ms/step - loss: 0.1555 - accuracy: 0.9382\n",
      "Epoch 81/100\n",
      "36/36 [==============================] - 0s 3ms/step - loss: 0.1539 - accuracy: 0.9382\n",
      "Epoch 82/100\n"
     ]
    },
    {
     "name": "stdout",
     "output_type": "stream",
     "text": [
      "36/36 [==============================] - 0s 3ms/step - loss: 0.1537 - accuracy: 0.9365\n",
      "Epoch 83/100\n",
      "36/36 [==============================] - 0s 2ms/step - loss: 0.1514 - accuracy: 0.9391\n",
      "Epoch 84/100\n",
      "36/36 [==============================] - 0s 2ms/step - loss: 0.1501 - accuracy: 0.9434\n",
      "Epoch 85/100\n",
      "36/36 [==============================] - 0s 2ms/step - loss: 0.1488 - accuracy: 0.9408\n",
      "Epoch 86/100\n",
      "36/36 [==============================] - 0s 3ms/step - loss: 0.1476 - accuracy: 0.9399\n",
      "Epoch 87/100\n",
      "36/36 [==============================] - 0s 2ms/step - loss: 0.1467 - accuracy: 0.9426\n",
      "Epoch 88/100\n",
      "36/36 [==============================] - 0s 2ms/step - loss: 0.1458 - accuracy: 0.9408\n",
      "Epoch 89/100\n",
      "36/36 [==============================] - 0s 2ms/step - loss: 0.1445 - accuracy: 0.9417\n",
      "Epoch 90/100\n",
      "36/36 [==============================] - 0s 2ms/step - loss: 0.1437 - accuracy: 0.9399\n",
      "Epoch 91/100\n",
      "36/36 [==============================] - 0s 2ms/step - loss: 0.1408 - accuracy: 0.9487\n",
      "Epoch 92/100\n",
      "36/36 [==============================] - 0s 3ms/step - loss: 0.1422 - accuracy: 0.9460\n",
      "Epoch 93/100\n",
      "36/36 [==============================] - 0s 2ms/step - loss: 0.1403 - accuracy: 0.9434\n",
      "Epoch 94/100\n",
      "36/36 [==============================] - 0s 3ms/step - loss: 0.1381 - accuracy: 0.9408\n",
      "Epoch 95/100\n",
      "36/36 [==============================] - 0s 2ms/step - loss: 0.1386 - accuracy: 0.9460\n",
      "Epoch 96/100\n",
      "36/36 [==============================] - 0s 2ms/step - loss: 0.1373 - accuracy: 0.9460\n",
      "Epoch 97/100\n",
      "36/36 [==============================] - 0s 2ms/step - loss: 0.1363 - accuracy: 0.9452\n",
      "Epoch 98/100\n",
      "36/36 [==============================] - 0s 2ms/step - loss: 0.1348 - accuracy: 0.9478\n",
      "Epoch 99/100\n",
      "36/36 [==============================] - 0s 2ms/step - loss: 0.1331 - accuracy: 0.9469\n",
      "Epoch 100/100\n",
      "36/36 [==============================] - 0s 3ms/step - loss: 0.1326 - accuracy: 0.9469\n"
     ]
    }
   ],
   "source": [
    "# relu to avoid vainishing gradient\n",
    "model = Sequential()\n",
    "model.add(Dense(12, activation='relu', input_dim=64))\n",
    "model.add(Dense(8, activation='relu'))\n",
    "model.add(Dense(1, activation='sigmoid'))\n",
    "\n",
    "model.compile(optimizer='SGD',\n",
    "              loss='binary_crossentropy',\n",
    "              metrics=['accuracy'])\n",
    "\n",
    "# Assign the variable history to store the results,\n",
    "# and set verbose=1 so we can see the output.\n",
    "results = model.fit(X_pure_train, y_pure_train, epochs=100, \n",
    "                    batch_size=None, verbose=1)"
   ]
  },
  {
   "cell_type": "code",
   "execution_count": 13,
   "metadata": {},
   "outputs": [
    {
     "data": {
      "image/png": "[encoded data removed]",
      "text/plain": [
       "<Figure size 720x360 with 2 Axes>"
      ]
     },
     "metadata": {
      "needs_background": "light"
     },
     "output_type": "display_data"
    }
   ],
   "source": [
    "sigmoid_loss = results.history['loss']\n",
    "sigmoid_accuracy = results.history['accuracy']\n",
    "\n",
    "fig, (ax1, ax2) = plt.subplots(1, 2, figsize=(10, 5))\n",
    "sns.lineplot(x=results.epoch, y=sigmoid_loss, ax=ax1, label='loss')\n",
    "sns.lineplot(x=results.epoch, y=sigmoid_accuracy, ax=ax2, \n",
    "             label='accuracy');"
   ]
  },
  {
   "cell_type": "code",
   "execution_count": null,
   "metadata": {},
   "outputs": [],
   "source": [
    "# we haven't reached diminishing result \n",
    "# bc we can still see it hasn't plateaured yet"
   ]
  },
  {
   "cell_type": "markdown",
   "metadata": {},
   "source": [
    "If we increase the learning rate to a very high number, we see that our model overshoots the minimum, and starts bouncing all around."
   ]
  },
  {
   "cell_type": "code",
   "execution_count": 14,
   "metadata": {},
   "outputs": [
    {
     "name": "stdout",
     "output_type": "stream",
     "text": [
      "Epoch 1/30\n",
      "115/115 [==============================] - 0s 2ms/step - loss: 0.9756 - accuracy: 0.5030\n",
      "Epoch 2/30\n",
      "115/115 [==============================] - 0s 2ms/step - loss: 1.0078 - accuracy: 0.4822\n",
      "Epoch 3/30\n",
      "115/115 [==============================] - 0s 3ms/step - loss: 1.0082 - accuracy: 0.4935\n",
      "Epoch 4/30\n",
      "115/115 [==============================] - 1s 5ms/step - loss: 0.9622 - accuracy: 0.4970\n",
      "Epoch 5/30\n",
      "115/115 [==============================] - 0s 2ms/step - loss: 0.9583 - accuracy: 0.5126\n",
      "Epoch 6/30\n",
      "115/115 [==============================] - 0s 2ms/step - loss: 1.0326 - accuracy: 0.4865\n",
      "Epoch 7/30\n",
      "115/115 [==============================] - 0s 3ms/step - loss: 1.0117 - accuracy: 0.5039\n",
      "Epoch 8/30\n",
      "115/115 [==============================] - 0s 2ms/step - loss: 0.9834 - accuracy: 0.5083\n",
      "Epoch 9/30\n",
      "115/115 [==============================] - 0s 3ms/step - loss: 1.0021 - accuracy: 0.5057\n",
      "Epoch 10/30\n",
      "115/115 [==============================] - 0s 2ms/step - loss: 1.0156 - accuracy: 0.4856\n",
      "Epoch 11/30\n",
      "115/115 [==============================] - 0s 2ms/step - loss: 0.9971 - accuracy: 0.4987\n",
      "Epoch 12/30\n",
      "115/115 [==============================] - 0s 2ms/step - loss: 0.9414 - accuracy: 0.5004\n",
      "Epoch 13/30\n",
      "115/115 [==============================] - 0s 3ms/step - loss: 1.0231 - accuracy: 0.5039\n",
      "Epoch 14/30\n",
      "115/115 [==============================] - 0s 2ms/step - loss: 0.9312 - accuracy: 0.5283\n",
      "Epoch 15/30\n",
      "115/115 [==============================] - 0s 3ms/step - loss: 1.0592 - accuracy: 0.4848\n",
      "Epoch 16/30\n",
      "115/115 [==============================] - 0s 3ms/step - loss: 0.9755 - accuracy: 0.4909\n",
      "Epoch 17/30\n",
      "115/115 [==============================] - 0s 4ms/step - loss: 1.1072 - accuracy: 0.4778\n",
      "Epoch 18/30\n",
      "115/115 [==============================] - 0s 3ms/step - loss: 1.0788 - accuracy: 0.4891\n",
      "Epoch 19/30\n",
      "115/115 [==============================] - 0s 3ms/step - loss: 0.9940 - accuracy: 0.4926\n",
      "Epoch 20/30\n",
      "115/115 [==============================] - 0s 3ms/step - loss: 0.9604 - accuracy: 0.5205\n",
      "Epoch 21/30\n",
      "115/115 [==============================] - 0s 3ms/step - loss: 0.9937 - accuracy: 0.4978\n",
      "Epoch 22/30\n",
      "115/115 [==============================] - 0s 4ms/step - loss: 1.0455 - accuracy: 0.5030\n",
      "Epoch 23/30\n",
      "115/115 [==============================] - 0s 3ms/step - loss: 0.9907 - accuracy: 0.4970\n",
      "Epoch 24/30\n",
      "115/115 [==============================] - 0s 3ms/step - loss: 1.0785 - accuracy: 0.4891\n",
      "Epoch 25/30\n",
      "115/115 [==============================] - 1s 5ms/step - loss: 1.0080 - accuracy: 0.5091\n",
      "Epoch 26/30\n",
      "115/115 [==============================] - 0s 3ms/step - loss: 1.0206 - accuracy: 0.4961\n",
      "Epoch 27/30\n",
      "115/115 [==============================] - 0s 3ms/step - loss: 1.0667 - accuracy: 0.4830\n",
      "Epoch 28/30\n",
      "115/115 [==============================] - 0s 3ms/step - loss: 0.8911 - accuracy: 0.5413\n",
      "Epoch 29/30\n",
      "115/115 [==============================] - 0s 2ms/step - loss: 0.9711 - accuracy: 0.4917\n",
      "Epoch 30/30\n",
      "115/115 [==============================] - 0s 4ms/step - loss: 0.9472 - accuracy: 0.5231\n"
     ]
    },
    {
     "data": {
      "image/png": "[encoded data removed]",
      "text/plain": [
       "<Figure size 720x360 with 2 Axes>"
      ]
     },
     "metadata": {
      "needs_background": "light"
     },
     "output_type": "display_data"
    }
   ],
   "source": [
    "model = Sequential()\n",
    "# we are specifiying SGD with a learning rate of 9 (9x the gradient)\n",
    "sgd = SGD(lr=9)\n",
    "model.add(Dense(12, activation='relu', input_dim=64))\n",
    "model.add(Dense(8, activation='relu'))\n",
    "model.add(Dense(1, activation='sigmoid'))\n",
    "\n",
    "model.compile(optimizer=sgd,\n",
    "              loss='binary_crossentropy',\n",
    "              metrics=['accuracy'])\n",
    "\n",
    "results = model.fit(X_pure_train, y_pure_train,\n",
    "                    epochs=30, batch_size=10, verbose=1)\n",
    "\n",
    "relu_loss = results.history['loss']\n",
    "relu_accuracy = results.history['accuracy']\n",
    "\n",
    "fig, (ax1, ax2) = plt.subplots(1, 2, figsize=(10, 5))\n",
    "sns.lineplot(x=results.epoch, y=relu_loss, ax=ax1, label='loss')\n",
    "sns.lineplot(x=results.epoch, y=relu_accuracy, ax=ax2, label='accuracy');"
   ]
  },
  {
   "cell_type": "code",
   "execution_count": null,
   "metadata": {},
   "outputs": [],
   "source": [
    "# bouncing because we are overshooting \n",
    "# too big of a learning rate"
   ]
  },
  {
   "cell_type": "markdown",
   "metadata": {},
   "source": [
    "### Exercise\n",
    "\n",
    "We have been looking only at our training set. Let's add in our validation set to the picture. Check the docstring for the `.fit()` method and add in our validation data."
   ]
  },
  {
   "cell_type": "code",
   "execution_count": 15,
   "metadata": {},
   "outputs": [
    {
     "name": "stdout",
     "output_type": "stream",
     "text": [
      "Epoch 1/30\n",
      "115/115 [==============================] - 1s 8ms/step - loss: 0.6643 - accuracy: 0.6388 - val_loss: 0.6202 - val_accuracy: 0.7569\n",
      "Epoch 2/30\n",
      "115/115 [==============================] - 0s 4ms/step - loss: 0.5212 - accuracy: 0.8172 - val_loss: 0.4409 - val_accuracy: 0.8472\n",
      "Epoch 3/30\n",
      "115/115 [==============================] - 0s 3ms/step - loss: 0.3556 - accuracy: 0.8721 - val_loss: 0.3067 - val_accuracy: 0.9097\n",
      "Epoch 4/30\n",
      "115/115 [==============================] - 0s 3ms/step - loss: 0.2664 - accuracy: 0.8947 - val_loss: 0.2652 - val_accuracy: 0.9062\n",
      "Epoch 5/30\n",
      "115/115 [==============================] - 0s 4ms/step - loss: 0.2160 - accuracy: 0.9164 - val_loss: 0.1990 - val_accuracy: 0.9306\n",
      "Epoch 6/30\n",
      "115/115 [==============================] - 0s 3ms/step - loss: 0.1842 - accuracy: 0.9286 - val_loss: 0.1768 - val_accuracy: 0.9271\n",
      "Epoch 7/30\n",
      "115/115 [==============================] - 0s 4ms/step - loss: 0.1601 - accuracy: 0.9347 - val_loss: 0.1566 - val_accuracy: 0.9375\n",
      "Epoch 8/30\n",
      "115/115 [==============================] - 0s 4ms/step - loss: 0.1422 - accuracy: 0.9426 - val_loss: 0.1575 - val_accuracy: 0.9375\n",
      "Epoch 9/30\n",
      "115/115 [==============================] - 0s 3ms/step - loss: 0.1287 - accuracy: 0.9495 - val_loss: 0.1302 - val_accuracy: 0.9444\n",
      "Epoch 10/30\n",
      "115/115 [==============================] - 0s 3ms/step - loss: 0.1186 - accuracy: 0.9530 - val_loss: 0.1301 - val_accuracy: 0.9410\n",
      "Epoch 11/30\n",
      "115/115 [==============================] - 0s 3ms/step - loss: 0.1068 - accuracy: 0.9652 - val_loss: 0.1242 - val_accuracy: 0.9444\n",
      "Epoch 12/30\n",
      "115/115 [==============================] - 0s 3ms/step - loss: 0.0970 - accuracy: 0.9669 - val_loss: 0.1092 - val_accuracy: 0.9514\n",
      "Epoch 13/30\n",
      "115/115 [==============================] - 0s 3ms/step - loss: 0.0904 - accuracy: 0.9704 - val_loss: 0.1231 - val_accuracy: 0.9549\n",
      "Epoch 14/30\n",
      "115/115 [==============================] - 0s 3ms/step - loss: 0.0855 - accuracy: 0.9713 - val_loss: 0.1087 - val_accuracy: 0.9549\n",
      "Epoch 15/30\n",
      "115/115 [==============================] - 0s 4ms/step - loss: 0.0764 - accuracy: 0.9774 - val_loss: 0.1026 - val_accuracy: 0.9583\n",
      "Epoch 16/30\n",
      "115/115 [==============================] - 0s 3ms/step - loss: 0.0712 - accuracy: 0.9774 - val_loss: 0.0884 - val_accuracy: 0.9549\n",
      "Epoch 17/30\n",
      "115/115 [==============================] - 0s 3ms/step - loss: 0.0662 - accuracy: 0.9800 - val_loss: 0.1041 - val_accuracy: 0.9583\n",
      "Epoch 18/30\n",
      "115/115 [==============================] - 0s 3ms/step - loss: 0.0625 - accuracy: 0.9817 - val_loss: 0.0933 - val_accuracy: 0.9653\n",
      "Epoch 19/30\n",
      "115/115 [==============================] - 0s 3ms/step - loss: 0.0619 - accuracy: 0.9800 - val_loss: 0.0798 - val_accuracy: 0.9583\n",
      "Epoch 20/30\n",
      "115/115 [==============================] - 0s 3ms/step - loss: 0.0543 - accuracy: 0.9800 - val_loss: 0.0875 - val_accuracy: 0.9688\n",
      "Epoch 21/30\n",
      "115/115 [==============================] - 0s 3ms/step - loss: 0.0538 - accuracy: 0.9782 - val_loss: 0.0822 - val_accuracy: 0.9653\n",
      "Epoch 22/30\n",
      "115/115 [==============================] - 0s 3ms/step - loss: 0.0476 - accuracy: 0.9852 - val_loss: 0.0793 - val_accuracy: 0.9653\n",
      "Epoch 23/30\n",
      "115/115 [==============================] - 0s 3ms/step - loss: 0.0453 - accuracy: 0.9826 - val_loss: 0.0750 - val_accuracy: 0.9653\n",
      "Epoch 24/30\n",
      "115/115 [==============================] - 0s 3ms/step - loss: 0.0441 - accuracy: 0.9843 - val_loss: 0.0825 - val_accuracy: 0.9653\n",
      "Epoch 25/30\n",
      "115/115 [==============================] - 0s 3ms/step - loss: 0.0405 - accuracy: 0.9869 - val_loss: 0.0831 - val_accuracy: 0.9653\n",
      "Epoch 26/30\n",
      "115/115 [==============================] - 0s 3ms/step - loss: 0.0351 - accuracy: 0.9896 - val_loss: 0.0719 - val_accuracy: 0.9618\n",
      "Epoch 27/30\n",
      "115/115 [==============================] - 0s 3ms/step - loss: 0.0328 - accuracy: 0.9896 - val_loss: 0.0790 - val_accuracy: 0.9653\n",
      "Epoch 28/30\n",
      "115/115 [==============================] - 0s 3ms/step - loss: 0.0364 - accuracy: 0.9896 - val_loss: 0.0704 - val_accuracy: 0.9653\n",
      "Epoch 29/30\n",
      "115/115 [==============================] - 0s 4ms/step - loss: 0.0288 - accuracy: 0.9939 - val_loss: 0.0640 - val_accuracy: 0.9688\n",
      "Epoch 30/30\n",
      "115/115 [==============================] - 0s 3ms/step - loss: 0.0308 - accuracy: 0.9922 - val_loss: 0.0707 - val_accuracy: 0.9618\n"
     ]
    },
    {
     "data": {
      "image/png": "[encoded data removed]",
      "text/plain": [
       "<Figure size 720x360 with 2 Axes>"
      ]
     },
     "metadata": {
      "needs_background": "light"
     },
     "output_type": "display_data"
    }
   ],
   "source": [
    "model = Sequential()\n",
    "model.add(Dense(12, activation='relu', input_dim=64))\n",
    "model.add(Dense(8, activation='relu'))\n",
    "model.add(Dense(1, activation='sigmoid'))\n",
    "\n",
    "model.compile(optimizer='adam',\n",
    "              loss='binary_crossentropy',\n",
    "              metrics=['accuracy'])\n",
    "\n",
    "\n",
    "## YOUR CODE HERE\n",
    "results = model.fit(X_pure_train, y_pure_train, \n",
    "                   validation_data=(X_val, y_val),\n",
    "                   epochs=30, batch_size=10, verbose=1)\n",
    "\n",
    "train_loss = results.history['loss']\n",
    "train_acc = results.history['accuracy']\n",
    "val_loss = results.history['val_loss']\n",
    "val_acc = results.history['val_accuracy']\n",
    "\n",
    "fig, (ax1, ax2) = plt.subplots(1, 2, figsize=(10, 5))\n",
    "sns.lineplot(x=results.epoch, y=train_loss, ax=ax1, label='train_loss')\n",
    "sns.lineplot(x=results.epoch, y=train_acc, ax=ax2, label='train_accuracy')\n",
    "\n",
    "sns.lineplot(x=results.epoch, y=val_loss, ax=ax1, label='val_loss')\n",
    "sns.lineplot(x=results.epoch, y=val_acc, ax=ax2, label='val_accuracy');"
   ]
  },
  {
   "cell_type": "markdown",
   "metadata": {},
   "source": [
    "<details>\n",
    "    <summary>One answer here</summary>\n",
    "<code>model = Sequential()\n",
    "model.add(Dense(12, activation='relu', input_dim=64))\n",
    "model.add(Dense(8, activation='relu'))\n",
    "model.add(Dense(4, activation='relu'))\n",
    "model.add(Dense(1, activation='sigmoid'))\n",
    "model.compile(optimizer='adam',\n",
    "              loss='binary_crossentropy',\n",
    "              metrics=['accuracy'])\n",
    "results = model.fit(X_pure_train, y_pure_train,\n",
    "                   validation_data=(X_val, y_val),\n",
    "                   epochs=30, batch_size=10)\n",
    "train_loss = results.history['loss']\n",
    "train_acc = results.history['accuracy']\n",
    "val_loss = results.history['val_loss']\n",
    "val_acc = results.history['val_accuracy']\n",
    "fig, (ax1, ax2) = plt.subplots(1, 2, figsize=(10, 5))\n",
    "sns.lineplot(x=results.epoch, y=train_loss, ax=ax1, label='train_loss')\n",
    "sns.lineplot(x=results.epoch, y=train_acc, ax=ax2, label='train_accuracy')\n",
    "sns.lineplot(x=results.epoch, y=val_loss, ax=ax1, label='val_loss')\n",
    "sns.lineplot(x=results.epoch, y=val_acc, ax=ax2, label='val_accuracy');</code>\n",
    "</details>"
   ]
  },
  {
   "cell_type": "code",
   "execution_count": 16,
   "metadata": {},
   "outputs": [
    {
     "data": {
      "text/plain": [
       "0.9618055820465088"
      ]
     },
     "execution_count": 16,
     "metadata": {},
     "output_type": "execute_result"
    }
   ],
   "source": [
    "# Model validation accuracy at the end\n",
    "results.history['val_accuracy'][-1]"
   ]
  },
  {
   "cell_type": "code",
   "execution_count": 17,
   "metadata": {},
   "outputs": [
    {
     "name": "stdout",
     "output_type": "stream",
     "text": [
      "9/9 [==============================] - 0s 4ms/step - loss: 0.0707 - accuracy: 0.9618\n"
     ]
    },
    {
     "data": {
      "text/plain": [
       "[0.07074925303459167, 0.9618055820465088]"
      ]
     },
     "execution_count": 17,
     "metadata": {},
     "output_type": "execute_result"
    }
   ],
   "source": [
    "# gives us loss and whatever metric we gave it\n",
    "model.evaluate(X_val, y_val)"
   ]
  },
  {
   "cell_type": "markdown",
   "metadata": {},
   "source": [
    "## Connecting with `sklearn`\n",
    "\n",
    "The `keras.wrappers` submodule means that we can turn `keras` models into estimators that `sklearn` tools will recognize."
   ]
  },
  {
   "cell_type": "code",
   "execution_count": 18,
   "metadata": {
    "scrolled": true
   },
   "outputs": [
    {
     "ename": "TypeError",
     "evalue": "If no scoring is specified, the estimator passed should have a 'score' method. The estimator <tensorflow.python.keras.engine.sequential.Sequential object at 0x7f830b90ca90> does not.",
     "output_type": "error",
     "traceback": [
      "\u001b[0;31m---------------------------------------------------------------------------\u001b[0m",
      "\u001b[0;31mTypeError\u001b[0m                                 Traceback (most recent call last)",
      "\u001b[0;32m<ipython-input-18-440685741601>\u001b[0m in \u001b[0;36m<module>\u001b[0;34m\u001b[0m\n\u001b[1;32m      1\u001b[0m \u001b[0;31m# This will throw an error.\u001b[0m\u001b[0;34m\u001b[0m\u001b[0;34m\u001b[0m\u001b[0;34m\u001b[0m\u001b[0m\n\u001b[1;32m      2\u001b[0m \u001b[0;34m\u001b[0m\u001b[0m\n\u001b[0;32m----> 3\u001b[0;31m \u001b[0mcross_val_score\u001b[0m\u001b[0;34m(\u001b[0m\u001b[0mmodel\u001b[0m\u001b[0;34m,\u001b[0m \u001b[0mX_pure_train\u001b[0m\u001b[0;34m,\u001b[0m \u001b[0my_pure_train\u001b[0m\u001b[0;34m)\u001b[0m\u001b[0;34m\u001b[0m\u001b[0;34m\u001b[0m\u001b[0m\n\u001b[0m",
      "\u001b[0;32m~/opt/anaconda3/envs/learn-env/lib/python3.8/site-packages/sklearn/utils/validation.py\u001b[0m in \u001b[0;36minner_f\u001b[0;34m(*args, **kwargs)\u001b[0m\n\u001b[1;32m     70\u001b[0m                           FutureWarning)\n\u001b[1;32m     71\u001b[0m         \u001b[0mkwargs\u001b[0m\u001b[0;34m.\u001b[0m\u001b[0mupdate\u001b[0m\u001b[0;34m(\u001b[0m\u001b[0;34m{\u001b[0m\u001b[0mk\u001b[0m\u001b[0;34m:\u001b[0m \u001b[0marg\u001b[0m \u001b[0;32mfor\u001b[0m \u001b[0mk\u001b[0m\u001b[0;34m,\u001b[0m \u001b[0marg\u001b[0m \u001b[0;32min\u001b[0m \u001b[0mzip\u001b[0m\u001b[0;34m(\u001b[0m\u001b[0msig\u001b[0m\u001b[0;34m.\u001b[0m\u001b[0mparameters\u001b[0m\u001b[0;34m,\u001b[0m \u001b[0margs\u001b[0m\u001b[0;34m)\u001b[0m\u001b[0;34m}\u001b[0m\u001b[0;34m)\u001b[0m\u001b[0;34m\u001b[0m\u001b[0;34m\u001b[0m\u001b[0m\n\u001b[0;32m---> 72\u001b[0;31m         \u001b[0;32mreturn\u001b[0m \u001b[0mf\u001b[0m\u001b[0;34m(\u001b[0m\u001b[0;34m**\u001b[0m\u001b[0mkwargs\u001b[0m\u001b[0;34m)\u001b[0m\u001b[0;34m\u001b[0m\u001b[0;34m\u001b[0m\u001b[0m\n\u001b[0m\u001b[1;32m     73\u001b[0m     \u001b[0;32mreturn\u001b[0m \u001b[0minner_f\u001b[0m\u001b[0;34m\u001b[0m\u001b[0;34m\u001b[0m\u001b[0m\n\u001b[1;32m     74\u001b[0m \u001b[0;34m\u001b[0m\u001b[0m\n",
      "\u001b[0;32m~/opt/anaconda3/envs/learn-env/lib/python3.8/site-packages/sklearn/model_selection/_validation.py\u001b[0m in \u001b[0;36mcross_val_score\u001b[0;34m(estimator, X, y, groups, scoring, cv, n_jobs, verbose, fit_params, pre_dispatch, error_score)\u001b[0m\n\u001b[1;32m    397\u001b[0m     \"\"\"\n\u001b[1;32m    398\u001b[0m     \u001b[0;31m# To ensure multimetric format is not supported\u001b[0m\u001b[0;34m\u001b[0m\u001b[0;34m\u001b[0m\u001b[0;34m\u001b[0m\u001b[0m\n\u001b[0;32m--> 399\u001b[0;31m     \u001b[0mscorer\u001b[0m \u001b[0;34m=\u001b[0m \u001b[0mcheck_scoring\u001b[0m\u001b[0;34m(\u001b[0m\u001b[0mestimator\u001b[0m\u001b[0;34m,\u001b[0m \u001b[0mscoring\u001b[0m\u001b[0;34m=\u001b[0m\u001b[0mscoring\u001b[0m\u001b[0;34m)\u001b[0m\u001b[0;34m\u001b[0m\u001b[0;34m\u001b[0m\u001b[0m\n\u001b[0m\u001b[1;32m    400\u001b[0m \u001b[0;34m\u001b[0m\u001b[0m\n\u001b[1;32m    401\u001b[0m     cv_results = cross_validate(estimator=estimator, X=X, y=y, groups=groups,\n",
      "\u001b[0;32m~/opt/anaconda3/envs/learn-env/lib/python3.8/site-packages/sklearn/utils/validation.py\u001b[0m in \u001b[0;36minner_f\u001b[0;34m(*args, **kwargs)\u001b[0m\n\u001b[1;32m     70\u001b[0m                           FutureWarning)\n\u001b[1;32m     71\u001b[0m         \u001b[0mkwargs\u001b[0m\u001b[0;34m.\u001b[0m\u001b[0mupdate\u001b[0m\u001b[0;34m(\u001b[0m\u001b[0;34m{\u001b[0m\u001b[0mk\u001b[0m\u001b[0;34m:\u001b[0m \u001b[0marg\u001b[0m \u001b[0;32mfor\u001b[0m \u001b[0mk\u001b[0m\u001b[0;34m,\u001b[0m \u001b[0marg\u001b[0m \u001b[0;32min\u001b[0m \u001b[0mzip\u001b[0m\u001b[0;34m(\u001b[0m\u001b[0msig\u001b[0m\u001b[0;34m.\u001b[0m\u001b[0mparameters\u001b[0m\u001b[0;34m,\u001b[0m \u001b[0margs\u001b[0m\u001b[0;34m)\u001b[0m\u001b[0;34m}\u001b[0m\u001b[0;34m)\u001b[0m\u001b[0;34m\u001b[0m\u001b[0;34m\u001b[0m\u001b[0m\n\u001b[0;32m---> 72\u001b[0;31m         \u001b[0;32mreturn\u001b[0m \u001b[0mf\u001b[0m\u001b[0;34m(\u001b[0m\u001b[0;34m**\u001b[0m\u001b[0mkwargs\u001b[0m\u001b[0;34m)\u001b[0m\u001b[0;34m\u001b[0m\u001b[0;34m\u001b[0m\u001b[0m\n\u001b[0m\u001b[1;32m     73\u001b[0m     \u001b[0;32mreturn\u001b[0m \u001b[0minner_f\u001b[0m\u001b[0;34m\u001b[0m\u001b[0;34m\u001b[0m\u001b[0m\n\u001b[1;32m     74\u001b[0m \u001b[0;34m\u001b[0m\u001b[0m\n",
      "\u001b[0;32m~/opt/anaconda3/envs/learn-env/lib/python3.8/site-packages/sklearn/metrics/_scorer.py\u001b[0m in \u001b[0;36mcheck_scoring\u001b[0;34m(estimator, scoring, allow_none)\u001b[0m\n\u001b[1;32m    423\u001b[0m             \u001b[0;32mreturn\u001b[0m \u001b[0;32mNone\u001b[0m\u001b[0;34m\u001b[0m\u001b[0;34m\u001b[0m\u001b[0m\n\u001b[1;32m    424\u001b[0m         \u001b[0;32melse\u001b[0m\u001b[0;34m:\u001b[0m\u001b[0;34m\u001b[0m\u001b[0;34m\u001b[0m\u001b[0m\n\u001b[0;32m--> 425\u001b[0;31m             raise TypeError(\n\u001b[0m\u001b[1;32m    426\u001b[0m                 \u001b[0;34m\"If no scoring is specified, the estimator passed should \"\u001b[0m\u001b[0;34m\u001b[0m\u001b[0;34m\u001b[0m\u001b[0m\n\u001b[1;32m    427\u001b[0m                 \u001b[0;34m\"have a 'score' method. The estimator %r does not.\"\u001b[0m\u001b[0;34m\u001b[0m\u001b[0;34m\u001b[0m\u001b[0m\n",
      "\u001b[0;31mTypeError\u001b[0m: If no scoring is specified, the estimator passed should have a 'score' method. The estimator <tensorflow.python.keras.engine.sequential.Sequential object at 0x7f830b90ca90> does not."
     ]
    }
   ],
   "source": [
    "# This will throw an error.\n",
    "\n",
    "cross_val_score(model, X_pure_train, y_pure_train)"
   ]
  },
  {
   "cell_type": "code",
   "execution_count": 19,
   "metadata": {},
   "outputs": [],
   "source": [
    "# Need to define a function to build the model\n",
    "def build_model():\n",
    "    model = Sequential()\n",
    "    model.add(Dense(12, activation='relu', input_dim=64))\n",
    "    model.add(Dense(8, activation='relu'))\n",
    "    model.add(Dense(1, activation='sigmoid'))\n",
    "    \n",
    "    model.compile(optimizer='adam', \n",
    "                  loss='binary_crossentropy', \n",
    "                  metrics=['accuracy']\n",
    "                 )\n",
    "    return model"
   ]
  },
  {
   "cell_type": "code",
   "execution_count": 20,
   "metadata": {},
   "outputs": [],
   "source": [
    "keras_model = scikit_learn.KerasClassifier(build_model,\n",
    "                                          epochs=50,\n",
    "                                          batch_size=32,\n",
    "                                          verbose=1)"
   ]
  },
  {
   "cell_type": "code",
   "execution_count": 21,
   "metadata": {},
   "outputs": [
    {
     "data": {
      "text/plain": [
       "tensorflow.python.keras.wrappers.scikit_learn.KerasClassifier"
      ]
     },
     "execution_count": 21,
     "metadata": {},
     "output_type": "execute_result"
    }
   ],
   "source": [
    "type(keras_model)"
   ]
  },
  {
   "cell_type": "code",
   "execution_count": 22,
   "metadata": {},
   "outputs": [
    {
     "name": "stdout",
     "output_type": "stream",
     "text": [
      "Epoch 1/50\n",
      "24/24 [==============================] - 0s 3ms/step - loss: 0.6829 - accuracy: 0.5052\n",
      "Epoch 2/50\n",
      "24/24 [==============================] - 0s 3ms/step - loss: 0.6569 - accuracy: 0.5209\n",
      "Epoch 3/50\n",
      "24/24 [==============================] - 0s 5ms/step - loss: 0.6092 - accuracy: 0.6266\n",
      "Epoch 4/50\n",
      "24/24 [==============================] - 0s 5ms/step - loss: 0.5682 - accuracy: 0.7402\n",
      "Epoch 5/50\n",
      "24/24 [==============================] - 0s 3ms/step - loss: 0.5382 - accuracy: 0.7768\n",
      "Epoch 6/50\n",
      "24/24 [==============================] - 0s 3ms/step - loss: 0.5130 - accuracy: 0.8003\n",
      "Epoch 7/50\n",
      "24/24 [==============================] - 0s 3ms/step - loss: 0.4903 - accuracy: 0.8420\n",
      "Epoch 8/50\n",
      "24/24 [==============================] - 0s 3ms/step - loss: 0.4714 - accuracy: 0.8486\n",
      "Epoch 9/50\n",
      "24/24 [==============================] - 0s 3ms/step - loss: 0.4512 - accuracy: 0.8747\n",
      "Epoch 10/50\n",
      "24/24 [==============================] - 0s 3ms/step - loss: 0.4090 - accuracy: 0.8930\n",
      "Epoch 11/50\n",
      "24/24 [==============================] - 0s 4ms/step - loss: 0.3461 - accuracy: 0.9125\n",
      "Epoch 12/50\n",
      "24/24 [==============================] - 0s 7ms/step - loss: 0.2976 - accuracy: 0.9164\n",
      "Epoch 13/50\n",
      "24/24 [==============================] - 0s 3ms/step - loss: 0.2593 - accuracy: 0.9178\n",
      "Epoch 14/50\n",
      "24/24 [==============================] - 0s 4ms/step - loss: 0.2329 - accuracy: 0.9164\n",
      "Epoch 15/50\n",
      "24/24 [==============================] - 0s 3ms/step - loss: 0.2149 - accuracy: 0.9243\n",
      "Epoch 16/50\n",
      "24/24 [==============================] - 0s 2ms/step - loss: 0.2034 - accuracy: 0.9230\n",
      "Epoch 17/50\n",
      "24/24 [==============================] - 0s 3ms/step - loss: 0.1897 - accuracy: 0.9347\n",
      "Epoch 18/50\n",
      "24/24 [==============================] - 0s 3ms/step - loss: 0.1806 - accuracy: 0.9308\n",
      "Epoch 19/50\n",
      "24/24 [==============================] - 0s 3ms/step - loss: 0.1768 - accuracy: 0.9295\n",
      "Epoch 20/50\n",
      "24/24 [==============================] - 0s 3ms/step - loss: 0.1677 - accuracy: 0.9321\n",
      "Epoch 21/50\n",
      "24/24 [==============================] - 0s 3ms/step - loss: 0.1601 - accuracy: 0.9360\n",
      "Epoch 22/50\n",
      "24/24 [==============================] - 0s 3ms/step - loss: 0.1553 - accuracy: 0.9373\n",
      "Epoch 23/50\n",
      "24/24 [==============================] - 0s 3ms/step - loss: 0.1511 - accuracy: 0.9413\n",
      "Epoch 24/50\n",
      "24/24 [==============================] - 0s 3ms/step - loss: 0.1456 - accuracy: 0.9426\n",
      "Epoch 25/50\n",
      "24/24 [==============================] - 0s 3ms/step - loss: 0.1405 - accuracy: 0.9491\n",
      "Epoch 26/50\n",
      "24/24 [==============================] - 0s 4ms/step - loss: 0.1339 - accuracy: 0.9478\n",
      "Epoch 27/50\n",
      "24/24 [==============================] - 0s 4ms/step - loss: 0.1282 - accuracy: 0.9556\n",
      "Epoch 28/50\n",
      "24/24 [==============================] - 0s 3ms/step - loss: 0.1238 - accuracy: 0.9543\n",
      "Epoch 29/50\n",
      "24/24 [==============================] - 0s 4ms/step - loss: 0.1204 - accuracy: 0.9569\n",
      "Epoch 30/50\n",
      "24/24 [==============================] - 0s 4ms/step - loss: 0.1158 - accuracy: 0.9569\n",
      "Epoch 31/50\n",
      "24/24 [==============================] - 0s 8ms/step - loss: 0.1138 - accuracy: 0.9569\n",
      "Epoch 32/50\n",
      "24/24 [==============================] - 0s 3ms/step - loss: 0.1141 - accuracy: 0.9569\n",
      "Epoch 33/50\n",
      "24/24 [==============================] - 0s 3ms/step - loss: 0.1074 - accuracy: 0.9661\n",
      "Epoch 34/50\n",
      "24/24 [==============================] - 0s 3ms/step - loss: 0.1051 - accuracy: 0.9634\n",
      "Epoch 35/50\n",
      "24/24 [==============================] - 0s 4ms/step - loss: 0.1047 - accuracy: 0.9608\n",
      "Epoch 36/50\n",
      "24/24 [==============================] - 0s 3ms/step - loss: 0.1000 - accuracy: 0.9608\n",
      "Epoch 37/50\n",
      "24/24 [==============================] - 0s 3ms/step - loss: 0.0961 - accuracy: 0.9661\n",
      "Epoch 38/50\n",
      "24/24 [==============================] - 0s 3ms/step - loss: 0.0927 - accuracy: 0.9687\n",
      "Epoch 39/50\n",
      "24/24 [==============================] - 0s 3ms/step - loss: 0.0918 - accuracy: 0.9700\n",
      "Epoch 40/50\n",
      "24/24 [==============================] - 0s 3ms/step - loss: 0.0902 - accuracy: 0.9687\n",
      "Epoch 41/50\n",
      "24/24 [==============================] - 0s 3ms/step - loss: 0.0893 - accuracy: 0.9700\n",
      "Epoch 42/50\n",
      "24/24 [==============================] - 0s 3ms/step - loss: 0.0873 - accuracy: 0.9687\n",
      "Epoch 43/50\n",
      "24/24 [==============================] - 0s 3ms/step - loss: 0.0841 - accuracy: 0.9739\n",
      "Epoch 44/50\n",
      "24/24 [==============================] - 0s 2ms/step - loss: 0.0823 - accuracy: 0.9739\n",
      "Epoch 45/50\n",
      "24/24 [==============================] - 0s 2ms/step - loss: 0.0809 - accuracy: 0.9752\n",
      "Epoch 46/50\n",
      "24/24 [==============================] - 0s 2ms/step - loss: 0.0791 - accuracy: 0.9765\n",
      "Epoch 47/50\n",
      "24/24 [==============================] - 0s 3ms/step - loss: 0.0779 - accuracy: 0.9752\n",
      "Epoch 48/50\n",
      "24/24 [==============================] - 0s 5ms/step - loss: 0.0766 - accuracy: 0.9739\n",
      "Epoch 49/50\n",
      "24/24 [==============================] - 0s 3ms/step - loss: 0.0754 - accuracy: 0.9778\n",
      "Epoch 50/50\n",
      "24/24 [==============================] - 0s 4ms/step - loss: 0.0727 - accuracy: 0.9765\n",
      "12/12 [==============================] - 0s 2ms/step - loss: 0.1300 - accuracy: 0.9399\n",
      "Epoch 1/50\n",
      "24/24 [==============================] - 0s 2ms/step - loss: 0.6619 - accuracy: 0.6214\n",
      "Epoch 2/50\n",
      "24/24 [==============================] - 0s 4ms/step - loss: 0.5870 - accuracy: 0.7676\n",
      "Epoch 3/50\n",
      "24/24 [==============================] - 0s 3ms/step - loss: 0.5186 - accuracy: 0.8355\n",
      "Epoch 4/50\n",
      "24/24 [==============================] - 0s 3ms/step - loss: 0.4575 - accuracy: 0.8499\n",
      "Epoch 5/50\n",
      "24/24 [==============================] - 0s 4ms/step - loss: 0.4109 - accuracy: 0.8590\n",
      "Epoch 6/50\n",
      "24/24 [==============================] - 0s 3ms/step - loss: 0.3780 - accuracy: 0.8655\n",
      "Epoch 7/50\n",
      "24/24 [==============================] - 0s 3ms/step - loss: 0.3425 - accuracy: 0.8786\n",
      "Epoch 8/50\n",
      "24/24 [==============================] - 0s 4ms/step - loss: 0.3176 - accuracy: 0.8838\n",
      "Epoch 9/50\n",
      "24/24 [==============================] - 0s 3ms/step - loss: 0.2971 - accuracy: 0.8943\n",
      "Epoch 10/50\n",
      "24/24 [==============================] - 0s 3ms/step - loss: 0.2734 - accuracy: 0.8943\n",
      "Epoch 11/50\n",
      "24/24 [==============================] - 0s 3ms/step - loss: 0.2547 - accuracy: 0.8995\n",
      "Epoch 12/50\n",
      "24/24 [==============================] - 0s 2ms/step - loss: 0.2402 - accuracy: 0.9060\n",
      "Epoch 13/50\n",
      "24/24 [==============================] - 0s 3ms/step - loss: 0.2237 - accuracy: 0.9125\n",
      "Epoch 14/50\n",
      "24/24 [==============================] - 0s 2ms/step - loss: 0.2109 - accuracy: 0.9178\n",
      "Epoch 15/50\n",
      "24/24 [==============================] - 0s 3ms/step - loss: 0.2005 - accuracy: 0.9230\n",
      "Epoch 16/50\n",
      "24/24 [==============================] - 0s 3ms/step - loss: 0.1890 - accuracy: 0.9269\n",
      "Epoch 17/50\n",
      "24/24 [==============================] - 0s 3ms/step - loss: 0.1825 - accuracy: 0.9269\n",
      "Epoch 18/50\n",
      "24/24 [==============================] - 0s 2ms/step - loss: 0.1713 - accuracy: 0.9334\n",
      "Epoch 19/50\n",
      "24/24 [==============================] - 0s 3ms/step - loss: 0.1642 - accuracy: 0.9413\n",
      "Epoch 20/50\n",
      "24/24 [==============================] - 0s 4ms/step - loss: 0.1586 - accuracy: 0.9413\n",
      "Epoch 21/50\n",
      "24/24 [==============================] - 0s 3ms/step - loss: 0.1488 - accuracy: 0.9530\n",
      "Epoch 22/50\n",
      "24/24 [==============================] - 0s 4ms/step - loss: 0.1541 - accuracy: 0.9439\n",
      "Epoch 23/50\n",
      "24/24 [==============================] - 0s 4ms/step - loss: 0.1424 - accuracy: 0.9465\n",
      "Epoch 24/50\n",
      "24/24 [==============================] - 0s 5ms/step - loss: 0.1401 - accuracy: 0.9491\n",
      "Epoch 25/50\n",
      "24/24 [==============================] - 0s 4ms/step - loss: 0.1338 - accuracy: 0.9569\n",
      "Epoch 26/50\n",
      "24/24 [==============================] - 0s 3ms/step - loss: 0.1284 - accuracy: 0.9543\n",
      "Epoch 27/50\n",
      "24/24 [==============================] - 0s 3ms/step - loss: 0.1219 - accuracy: 0.9556\n",
      "Epoch 28/50\n",
      "24/24 [==============================] - 0s 3ms/step - loss: 0.1208 - accuracy: 0.9569\n",
      "Epoch 29/50\n",
      "24/24 [==============================] - 0s 4ms/step - loss: 0.1142 - accuracy: 0.9608\n",
      "Epoch 30/50\n",
      "24/24 [==============================] - 0s 6ms/step - loss: 0.1099 - accuracy: 0.9661\n",
      "Epoch 31/50\n",
      "24/24 [==============================] - 0s 3ms/step - loss: 0.1072 - accuracy: 0.9661\n",
      "Epoch 32/50\n",
      "24/24 [==============================] - 0s 2ms/step - loss: 0.1049 - accuracy: 0.9661\n"
     ]
    },
    {
     "name": "stdout",
     "output_type": "stream",
     "text": [
      "Epoch 33/50\n",
      "24/24 [==============================] - 0s 2ms/step - loss: 0.1010 - accuracy: 0.9634\n",
      "Epoch 34/50\n",
      "24/24 [==============================] - 0s 3ms/step - loss: 0.1000 - accuracy: 0.9661\n",
      "Epoch 35/50\n",
      "24/24 [==============================] - 0s 3ms/step - loss: 0.0948 - accuracy: 0.9674\n",
      "Epoch 36/50\n",
      "24/24 [==============================] - 0s 3ms/step - loss: 0.0951 - accuracy: 0.9648\n",
      "Epoch 37/50\n",
      "24/24 [==============================] - 0s 3ms/step - loss: 0.0898 - accuracy: 0.9700\n",
      "Epoch 38/50\n",
      "24/24 [==============================] - 0s 3ms/step - loss: 0.0864 - accuracy: 0.9713\n",
      "Epoch 39/50\n",
      "24/24 [==============================] - 0s 3ms/step - loss: 0.0831 - accuracy: 0.9700\n",
      "Epoch 40/50\n",
      "24/24 [==============================] - 0s 4ms/step - loss: 0.0818 - accuracy: 0.9713\n",
      "Epoch 41/50\n",
      "24/24 [==============================] - 0s 4ms/step - loss: 0.0820 - accuracy: 0.9752\n",
      "Epoch 42/50\n",
      "24/24 [==============================] - 0s 3ms/step - loss: 0.0811 - accuracy: 0.9726\n",
      "Epoch 43/50\n",
      "24/24 [==============================] - 0s 3ms/step - loss: 0.0756 - accuracy: 0.9739\n",
      "Epoch 44/50\n",
      "24/24 [==============================] - 0s 4ms/step - loss: 0.0728 - accuracy: 0.9752\n",
      "Epoch 45/50\n",
      "24/24 [==============================] - 0s 3ms/step - loss: 0.0717 - accuracy: 0.9739\n",
      "Epoch 46/50\n",
      "24/24 [==============================] - 0s 3ms/step - loss: 0.0681 - accuracy: 0.9752\n",
      "Epoch 47/50\n",
      "24/24 [==============================] - 0s 3ms/step - loss: 0.0671 - accuracy: 0.9739\n",
      "Epoch 48/50\n",
      "24/24 [==============================] - 0s 3ms/step - loss: 0.0647 - accuracy: 0.9791\n",
      "Epoch 49/50\n",
      "24/24 [==============================] - 0s 3ms/step - loss: 0.0624 - accuracy: 0.9817\n",
      "Epoch 50/50\n",
      "24/24 [==============================] - 0s 3ms/step - loss: 0.0615 - accuracy: 0.9791\n",
      "12/12 [==============================] - 0s 4ms/step - loss: 0.1008 - accuracy: 0.9556\n",
      "Epoch 1/50\n",
      "24/24 [==============================] - 0s 4ms/step - loss: 0.6929 - accuracy: 0.5065\n",
      "Epoch 2/50\n",
      "24/24 [==============================] - 0s 4ms/step - loss: 0.6747 - accuracy: 0.6540\n",
      "Epoch 3/50\n",
      "24/24 [==============================] - 0s 2ms/step - loss: 0.6527 - accuracy: 0.7611\n",
      "Epoch 4/50\n",
      "24/24 [==============================] - 0s 3ms/step - loss: 0.6203 - accuracy: 0.8238\n",
      "Epoch 5/50\n",
      "24/24 [==============================] - 0s 3ms/step - loss: 0.5766 - accuracy: 0.8642\n",
      "Epoch 6/50\n",
      "24/24 [==============================] - 0s 3ms/step - loss: 0.5207 - accuracy: 0.8747\n",
      "Epoch 7/50\n",
      "24/24 [==============================] - 0s 4ms/step - loss: 0.4576 - accuracy: 0.8695\n",
      "Epoch 8/50\n",
      "24/24 [==============================] - 0s 3ms/step - loss: 0.4010 - accuracy: 0.8681\n",
      "Epoch 9/50\n",
      "24/24 [==============================] - 0s 5ms/step - loss: 0.3511 - accuracy: 0.8799\n",
      "Epoch 10/50\n",
      "24/24 [==============================] - ETA: 0s - loss: 0.3125 - accuracy: 0.89 - 0s 4ms/step - loss: 0.3125 - accuracy: 0.8982\n",
      "Epoch 11/50\n",
      "24/24 [==============================] - 0s 2ms/step - loss: 0.2869 - accuracy: 0.9060\n",
      "Epoch 12/50\n",
      "24/24 [==============================] - 0s 3ms/step - loss: 0.2621 - accuracy: 0.9073\n",
      "Epoch 13/50\n",
      "24/24 [==============================] - 0s 3ms/step - loss: 0.2469 - accuracy: 0.9073\n",
      "Epoch 14/50\n",
      "24/24 [==============================] - 0s 2ms/step - loss: 0.2300 - accuracy: 0.9151\n",
      "Epoch 15/50\n",
      "24/24 [==============================] - 0s 7ms/step - loss: 0.2175 - accuracy: 0.9164\n",
      "Epoch 16/50\n",
      "24/24 [==============================] - 0s 3ms/step - loss: 0.2055 - accuracy: 0.9230\n",
      "Epoch 17/50\n",
      "24/24 [==============================] - 0s 4ms/step - loss: 0.1968 - accuracy: 0.9178\n",
      "Epoch 18/50\n",
      "24/24 [==============================] - 0s 2ms/step - loss: 0.1886 - accuracy: 0.9191\n",
      "Epoch 19/50\n",
      "24/24 [==============================] - 0s 3ms/step - loss: 0.1834 - accuracy: 0.9282\n",
      "Epoch 20/50\n",
      "24/24 [==============================] - 0s 6ms/step - loss: 0.1762 - accuracy: 0.9230\n",
      "Epoch 21/50\n",
      "24/24 [==============================] - 0s 6ms/step - loss: 0.1657 - accuracy: 0.9230\n",
      "Epoch 22/50\n",
      "24/24 [==============================] - 0s 4ms/step - loss: 0.1595 - accuracy: 0.9334\n",
      "Epoch 23/50\n",
      "24/24 [==============================] - 0s 3ms/step - loss: 0.1533 - accuracy: 0.9373\n",
      "Epoch 24/50\n",
      "24/24 [==============================] - 0s 2ms/step - loss: 0.1482 - accuracy: 0.9321\n",
      "Epoch 25/50\n",
      "24/24 [==============================] - 0s 3ms/step - loss: 0.1439 - accuracy: 0.9373\n",
      "Epoch 26/50\n",
      "24/24 [==============================] - 0s 3ms/step - loss: 0.1419 - accuracy: 0.9399\n",
      "Epoch 27/50\n",
      "24/24 [==============================] - 0s 3ms/step - loss: 0.1328 - accuracy: 0.9452\n",
      "Epoch 28/50\n",
      "24/24 [==============================] - 0s 2ms/step - loss: 0.1284 - accuracy: 0.9439\n",
      "Epoch 29/50\n",
      "24/24 [==============================] - 0s 3ms/step - loss: 0.1260 - accuracy: 0.9465\n",
      "Epoch 30/50\n",
      "24/24 [==============================] - 0s 4ms/step - loss: 0.1214 - accuracy: 0.9517\n",
      "Epoch 31/50\n",
      "24/24 [==============================] - 0s 4ms/step - loss: 0.1170 - accuracy: 0.9530\n",
      "Epoch 32/50\n",
      "24/24 [==============================] - 0s 3ms/step - loss: 0.1134 - accuracy: 0.9608\n",
      "Epoch 33/50\n",
      "24/24 [==============================] - 0s 4ms/step - loss: 0.1135 - accuracy: 0.9556\n",
      "Epoch 34/50\n",
      "24/24 [==============================] - 0s 3ms/step - loss: 0.1064 - accuracy: 0.9621\n",
      "Epoch 35/50\n",
      "24/24 [==============================] - 0s 4ms/step - loss: 0.1033 - accuracy: 0.9687\n",
      "Epoch 36/50\n",
      "24/24 [==============================] - 0s 4ms/step - loss: 0.1001 - accuracy: 0.9687\n",
      "Epoch 37/50\n",
      "24/24 [==============================] - 0s 2ms/step - loss: 0.1033 - accuracy: 0.9674\n",
      "Epoch 38/50\n",
      "24/24 [==============================] - 0s 2ms/step - loss: 0.0957 - accuracy: 0.9739\n",
      "Epoch 39/50\n",
      "24/24 [==============================] - 0s 3ms/step - loss: 0.0924 - accuracy: 0.9726\n",
      "Epoch 40/50\n",
      "24/24 [==============================] - 0s 2ms/step - loss: 0.0900 - accuracy: 0.9778\n",
      "Epoch 41/50\n",
      "24/24 [==============================] - 0s 4ms/step - loss: 0.0873 - accuracy: 0.9791\n",
      "Epoch 42/50\n",
      "24/24 [==============================] - 0s 3ms/step - loss: 0.0849 - accuracy: 0.9791\n",
      "Epoch 43/50\n",
      "24/24 [==============================] - 0s 2ms/step - loss: 0.0816 - accuracy: 0.9765\n",
      "Epoch 44/50\n",
      "24/24 [==============================] - 0s 3ms/step - loss: 0.0797 - accuracy: 0.9791\n",
      "Epoch 45/50\n",
      "24/24 [==============================] - 0s 3ms/step - loss: 0.0803 - accuracy: 0.9804\n",
      "Epoch 46/50\n",
      "24/24 [==============================] - 0s 2ms/step - loss: 0.0781 - accuracy: 0.9778\n",
      "Epoch 47/50\n",
      "24/24 [==============================] - 0s 3ms/step - loss: 0.0735 - accuracy: 0.9817\n",
      "Epoch 48/50\n",
      "24/24 [==============================] - 0s 4ms/step - loss: 0.0739 - accuracy: 0.9804: 0s - loss: 0.0747 - accuracy: 0.98\n",
      "Epoch 49/50\n",
      "24/24 [==============================] - 0s 3ms/step - loss: 0.0699 - accuracy: 0.9817\n",
      "Epoch 50/50\n",
      "24/24 [==============================] - 0s 3ms/step - loss: 0.0683 - accuracy: 0.9830\n",
      "12/12 [==============================] - 0s 4ms/step - loss: 0.1221 - accuracy: 0.9504\n"
     ]
    },
    {
     "data": {
      "text/plain": [
       "array([0.93994778, 0.95561355, 0.95039165])"
      ]
     },
     "execution_count": 22,
     "metadata": {},
     "output_type": "execute_result"
    }
   ],
   "source": [
    "# going to take a while bc 50 epoch's for fist fold\n",
    "# then running 50 epoch's for second fold\n",
    "# then another 50 for the third\n",
    "cross_val_score(keras_model, X_pure_train, y_pure_train, cv=3)"
   ]
  },
  {
   "cell_type": "markdown",
   "metadata": {},
   "source": [
    "## Regularization"
   ]
  },
  {
   "cell_type": "markdown",
   "metadata": {},
   "source": [
    "Does regularization make sense in the context of neural networks? <br/>\n",
    "\n",
    "Yes! We still have all of the salient ingredients: a loss function, overfitting vs. underfitting, and coefficients (weights) that could get too large.\n",
    "\n",
    "But there are now a few different flavors besides L1 and L2 regularization. (Note that L1 regularization is not common in the context of  neural networks.)\n",
    "\n",
    "We'll add a few more layers to give regularization a better chance of making a difference!"
   ]
  },
  {
   "cell_type": "code",
   "execution_count": 25,
   "metadata": {},
   "outputs": [
    {
     "data": {
      "image/png": "[encoded data removed]",
      "text/plain": [
       "<Figure size 720x360 with 2 Axes>"
      ]
     },
     "metadata": {
      "needs_background": "light"
     },
     "output_type": "display_data"
    }
   ],
   "source": [
    "model = Sequential()\n",
    "model.add(Dense(30, activation='relu', input_dim=64))\n",
    "\n",
    "# We can add L2 (or L1) regularization right into\n",
    "# the layer with the kernel_regularizer parameter.\n",
    "\n",
    "model.add(Dense(20, activation='relu', kernel_regularizer=l2(l2=0.05)))\n",
    "\n",
    "# Note that there is also a bias_regularizer,\n",
    "# but this tends to have less effect.\n",
    "\n",
    "model.add(Dense(12, activation='relu'))\n",
    "model.add(Dense(12, activation='relu'))\n",
    "model.add(Dense(12, activation='relu'))\n",
    "model.add(Dense(8, activation='relu'))\n",
    "model.add(Dense(4, activation='relu'))\n",
    "model.add(Dense(1, activation ='sigmoid'))\n",
    "\n",
    "model.compile(optimizer='adam',\n",
    "              loss='binary_crossentropy',\n",
    "              metrics=['accuracy'])\n",
    "\n",
    "results = model.fit(X_pure_train, y_pure_train, epochs=20, batch_size=32,\n",
    "                    verbose=0, validation_data=(X_val, y_val))\n",
    "\n",
    "train_loss = results.history['loss']\n",
    "train_acc = results.history['accuracy']\n",
    "val_loss = results.history['val_loss']\n",
    "val_acc = results.history['val_accuracy']\n",
    "\n",
    "\n",
    "fig, (ax1, ax2) = plt.subplots(1, 2, figsize=(10, 5))\n",
    "sns.lineplot(x=results.epoch, y=train_loss, ax=ax1, label='train_loss')\n",
    "sns.lineplot(x=results.epoch, y=train_acc, ax=ax2, label='train_accuracy')\n",
    "\n",
    "sns.lineplot(x=results.epoch, y=val_loss, ax=ax1, label='val_loss')\n",
    "sns.lineplot(x=results.epoch, y=val_acc, ax=ax2, label='val_accuracy');"
   ]
  },
  {
   "cell_type": "markdown",
   "metadata": {},
   "source": [
    "Adding L2 to multiple layers:"
   ]
  },
  {
   "cell_type": "code",
   "execution_count": 26,
   "metadata": {},
   "outputs": [
    {
     "data": {
      "image/png": "[encoded data removed]",
      "text/plain": [
       "<Figure size 720x360 with 2 Axes>"
      ]
     },
     "metadata": {
      "needs_background": "light"
     },
     "output_type": "display_data"
    }
   ],
   "source": [
    "model = Sequential()\n",
    "model.add(Dense(30, activation='relu',\n",
    "                input_dim=64))\n",
    "model.add(Dense(20, activation='relu',\n",
    "                kernel_regularizer=l2(l2=0.01)))\n",
    "\n",
    "model.add(Dense(12, activation='relu',\n",
    "                kernel_regularizer=l2(l2=0.01)))\n",
    "model.add(Dense(12, activation='relu',\n",
    "                kernel_regularizer=l2(l2=0.01)))\n",
    "model.add(Dense(12, activation='relu',\n",
    "                kernel_regularizer=l2(l2=0.01)))\n",
    "model.add(Dense(8, activation='relu',\n",
    "                kernel_regularizer=l2(l2=0.01)))\n",
    "model.add(Dense(4, activation='relu',\n",
    "                kernel_regularizer=l2(l2=0.01)))\n",
    "model.add(Dense(1, activation='sigmoid'))\n",
    "\n",
    "model.compile(optimizer='adam',\n",
    "              loss='binary_crossentropy',\n",
    "              metrics=['accuracy'])\n",
    "\n",
    "results = model.fit(X_pure_train, y_pure_train, epochs=20, batch_size=32,\n",
    "                    verbose=0, validation_data=(X_val, y_val))\n",
    "\n",
    "train_loss = results.history['loss']\n",
    "train_acc = results.history['accuracy']\n",
    "val_loss = results.history['val_loss']\n",
    "val_acc = results.history['val_accuracy']\n",
    "\n",
    "\n",
    "fig, (ax1, ax2) = plt.subplots(1, 2, figsize=(10, 5))\n",
    "sns.lineplot(x=results.epoch, y=train_loss, ax=ax1, label='train_loss')\n",
    "sns.lineplot(x=results.epoch, y=train_acc, ax=ax2, label='train_accuracy')\n",
    "\n",
    "sns.lineplot(x=results.epoch, y=val_loss, ax=ax1, label='val_loss')\n",
    "sns.lineplot(x=results.epoch, y=val_acc, ax=ax2, label='val_accuracy');"
   ]
  },
  {
   "cell_type": "markdown",
   "metadata": {},
   "source": [
    "### Dropout\n",
    "\n",
    "We can also specify a dropout layer in keras, which randomly shuts off different nodes during training. This can help to prevent overfitting.\n",
    "\n",
    "![drop_out](images/drop_out.png)"
   ]
  },
  {
   "cell_type": "markdown",
   "metadata": {},
   "source": [
    "### Exercise\n",
    "\n",
    "To add dropout to a `keras` network, simply add it as though it were a layer. It will apply to the immediately preceding layer.\n",
    "\n",
    "Add Dropout to one or more layers below."
   ]
  },
  {
   "cell_type": "code",
   "execution_count": 27,
   "metadata": {},
   "outputs": [
    {
     "data": {
      "image/png": "[encoded data removed]",
      "text/plain": [
       "<Figure size 720x360 with 2 Axes>"
      ]
     },
     "metadata": {
      "needs_background": "light"
     },
     "output_type": "display_data"
    }
   ],
   "source": [
    "model = Sequential()\n",
    "model.add(Dense(30, activation='relu', input_dim=64))\n",
    "\n",
    "model.add(Dense(20, activation='relu'))\n",
    "model.add(Dropout(0.5))\n",
    "model.add(Dense(12, activation='relu'))\n",
    "model.add(Dense(12, activation='relu'))\n",
    "model.add(Dense(12, activation='relu'))\n",
    "model.add(Dense(8, activation='relu'))\n",
    "model.add(Dense(4, activation='relu'))\n",
    "model.add(Dense(1, activation ='sigmoid'))\n",
    "\n",
    "model.compile(optimizer='adam',\n",
    "              loss='binary_crossentropy',\n",
    "              metrics=['accuracy'])\n",
    "\n",
    "results = model.fit(X_pure_train, y_pure_train, epochs=50,\n",
    "                    batch_size= 32, verbose=0,\n",
    "                    validation_data=(X_val, y_val))\n",
    "\n",
    "train_loss = results.history['loss']\n",
    "train_acc = results.history['accuracy']\n",
    "val_loss = results.history['val_loss']\n",
    "val_acc = results.history['val_accuracy']\n",
    "\n",
    "\n",
    "fig, (ax1, ax2) = plt.subplots(1, 2, figsize=(10, 5))\n",
    "sns.lineplot(x=results.epoch, y=train_loss, ax=ax1, label='train_loss')\n",
    "sns.lineplot(x=results.epoch, y=train_acc, ax=ax2, label='train_accuracy')\n",
    "\n",
    "sns.lineplot(x=results.epoch, y=val_loss, ax=ax1, label='val_loss')\n",
    "sns.lineplot(x=results.epoch, y=val_acc, ax=ax2, label='val_accuracy');"
   ]
  },
  {
   "cell_type": "markdown",
   "metadata": {},
   "source": [
    "<details>\n",
    "    <summary>One answer here</summary>\n",
    "<code>model = Sequential()\n",
    "model.add(Dense(30, activation='relu', input_dim=64))\n",
    "model.add(Dense(20, activation='relu'))\n",
    "model.add(Dropout(0.5))\n",
    "model.add(Dense(12, activation='relu'))\n",
    "model.add(Dropout(0.2))\n",
    "model.add(Dense(12, activation='relu'))\n",
    "model.add(Dense(12, activation='relu'))\n",
    "model.add(Dense(8, activation='relu'))\n",
    "model.add(Dense(4, activation='relu'))\n",
    "model.add(Dense(1, activation ='sigmoid'))\n",
    "\n",
    "model.compile(optimizer='adam',\n",
    "              loss='binary_crossentropy',\n",
    "              metrics=['accuracy'])\n",
    "\n",
    "results = model.fit(X_pure_train, y_pure_train, epochs=50,\n",
    "                    batch_size= 32, verbose=0,\n",
    "                    validation_data=(X_val, y_val))\n",
    "\n",
    "train_loss = results.history['loss']\n",
    "train_acc = results.history['accuracy']\n",
    "val_loss = results.history['val_loss']\n",
    "val_acc = results.history['val_accuracy']\n",
    "\n",
    "\n",
    "fig, (ax1, ax2) = plt.subplots(1, 2, figsize=(10, 5))\n",
    "sns.lineplot(x=results.epoch, y=train_loss, ax=ax1, label='train_loss')\n",
    "sns.lineplot(x=results.epoch, y=train_acc, ax=ax2, label='train_accuracy')\n",
    "\n",
    "sns.lineplot(x=results.epoch, y=val_loss, ax=ax1, label='val_loss')\n",
    "sns.lineplot(x=results.epoch, y=val_acc, ax=ax2, label='val_accuracy');</code>\n",
    "</details>"
   ]
  },
  {
   "cell_type": "code",
   "execution_count": null,
   "metadata": {},
   "outputs": [],
   "source": [
    "results.history['val_accuracy'][-1]"
   ]
  },
  {
   "cell_type": "markdown",
   "metadata": {},
   "source": [
    "### Early Stopping"
   ]
  },
  {
   "cell_type": "markdown",
   "metadata": {},
   "source": [
    "We can also tell our neural network to stop once it stops realizing any gain.\n",
    "\n",
    "Here we tell it to stop once the a very small positive change in the validation loss occurs:"
   ]
  },
  {
   "cell_type": "code",
   "execution_count": 28,
   "metadata": {},
   "outputs": [
    {
     "name": "stdout",
     "output_type": "stream",
     "text": [
      "Epoch 00008: early stopping\n"
     ]
    },
    {
     "data": {
      "image/png": "[encoded data removed]",
      "text/plain": [
       "<Figure size 720x360 with 2 Axes>"
      ]
     },
     "metadata": {
      "needs_background": "light"
     },
     "output_type": "display_data"
    }
   ],
   "source": [
    "model = Sequential()\n",
    "model.add(Dense(30, activation='relu', input_dim=64))\n",
    "model.add(Dense(20, activation='relu'))\n",
    "model.add(Dropout(0.5))\n",
    "model.add(Dense(12, activation='relu'))\n",
    "model.add(Dense(12, activation='relu'))\n",
    "model.add(Dense(12, activation='relu'))\n",
    "model.add(Dense(8, activation='relu'))\n",
    "model.add(Dense(4, activation='relu'))\n",
    "model.add(Dense(1, activation ='sigmoid'))\n",
    "\n",
    "model.compile(optimizer='adam',\n",
    "              loss='binary_crossentropy',\n",
    "              metrics=['accuracy'])\n",
    "\n",
    "# Define the EarlyStopping object\n",
    "early_stop = EarlyStopping(monitor='val_loss', min_delta=1e-8, \n",
    "                          verbose=1, mode='min')\n",
    "\n",
    "# Place this in a list as the value of the `callbacks` parameter\n",
    "# in the `.fit()` method.\n",
    "results = model.fit(X_pure_train, y_pure_train,\n",
    "                    epochs=20, batch_size=32,\n",
    "                    verbose=0, validation_data=(X_val, y_val),\n",
    "                    callbacks=[early_stop])\n",
    "\n",
    "train_loss = results.history['loss']\n",
    "train_acc = results.history['accuracy']\n",
    "val_loss = results.history['val_loss']\n",
    "val_acc = results.history['val_accuracy']\n",
    "\n",
    "\n",
    "fig, (ax1, ax2) = plt.subplots(1, 2, figsize=(10, 5))\n",
    "sns.lineplot(x=results.epoch, y=train_loss, ax=ax1, label='train_loss')\n",
    "sns.lineplot(x=results.epoch, y=train_acc, ax=ax2, label='train_accuracy')\n",
    "\n",
    "sns.lineplot(x=results.epoch, y=val_loss, ax=ax1, label='val_loss')\n",
    "sns.lineplot(x=results.epoch, y=val_acc, ax=ax2, label='val_accuracy');"
   ]
  },
  {
   "cell_type": "markdown",
   "metadata": {},
   "source": [
    "### Exercise\n",
    "\n",
    "That probably stopped too early. We can specify the number of epochs in which it doesn't see decrease in the loss with the `patience` parameter. Modify the code below to include an Early Stop with a patience of 5 epochs."
   ]
  },
  {
   "cell_type": "code",
   "execution_count": 29,
   "metadata": {},
   "outputs": [
    {
     "name": "stdout",
     "output_type": "stream",
     "text": [
      "Epoch 1/100\n",
      "36/36 [==============================] - 0s 12ms/step - loss: 0.6921 - accuracy: 0.5335 - val_loss: 0.6892 - val_accuracy: 0.6910\n",
      "Epoch 2/100\n",
      "36/36 [==============================] - 0s 4ms/step - loss: 0.6823 - accuracy: 0.6701 - val_loss: 0.6589 - val_accuracy: 0.8229\n",
      "Epoch 3/100\n",
      "36/36 [==============================] - 0s 4ms/step - loss: 0.6185 - accuracy: 0.7215 - val_loss: 0.5211 - val_accuracy: 0.8438\n",
      "Epoch 4/100\n",
      "36/36 [==============================] - 0s 7ms/step - loss: 0.4654 - accuracy: 0.8146 - val_loss: 0.3396 - val_accuracy: 0.8819\n",
      "Epoch 5/100\n",
      "36/36 [==============================] - 0s 8ms/step - loss: 0.3608 - accuracy: 0.8581 - val_loss: 0.2842 - val_accuracy: 0.8958\n",
      "Epoch 6/100\n",
      "36/36 [==============================] - 0s 9ms/step - loss: 0.2995 - accuracy: 0.8886 - val_loss: 0.2488 - val_accuracy: 0.8924\n",
      "Epoch 7/100\n",
      "36/36 [==============================] - 0s 7ms/step - loss: 0.2538 - accuracy: 0.9086 - val_loss: 0.2154 - val_accuracy: 0.9132\n",
      "Epoch 8/100\n",
      "36/36 [==============================] - 0s 7ms/step - loss: 0.2410 - accuracy: 0.9130 - val_loss: 0.1951 - val_accuracy: 0.9236\n",
      "Epoch 9/100\n",
      "36/36 [==============================] - 0s 8ms/step - loss: 0.2221 - accuracy: 0.9164 - val_loss: 0.1747 - val_accuracy: 0.9340\n",
      "Epoch 10/100\n",
      "36/36 [==============================] - 0s 7ms/step - loss: 0.1964 - accuracy: 0.9252 - val_loss: 0.1638 - val_accuracy: 0.9410\n",
      "Epoch 11/100\n",
      "36/36 [==============================] - 0s 6ms/step - loss: 0.1844 - accuracy: 0.9217 - val_loss: 0.1529 - val_accuracy: 0.9410\n",
      "Epoch 12/100\n",
      "36/36 [==============================] - 0s 5ms/step - loss: 0.1601 - accuracy: 0.9373 - val_loss: 0.1415 - val_accuracy: 0.9410\n",
      "Epoch 13/100\n",
      "36/36 [==============================] - 0s 3ms/step - loss: 0.1492 - accuracy: 0.9373 - val_loss: 0.1285 - val_accuracy: 0.9479\n",
      "Epoch 14/100\n",
      "36/36 [==============================] - 0s 7ms/step - loss: 0.1321 - accuracy: 0.9487 - val_loss: 0.1333 - val_accuracy: 0.9444\n",
      "Epoch 15/100\n",
      "36/36 [==============================] - 0s 4ms/step - loss: 0.1458 - accuracy: 0.9443 - val_loss: 0.1248 - val_accuracy: 0.9479\n",
      "Epoch 16/100\n",
      "36/36 [==============================] - 0s 4ms/step - loss: 0.1205 - accuracy: 0.9487 - val_loss: 0.1090 - val_accuracy: 0.9514\n",
      "Epoch 17/100\n",
      "36/36 [==============================] - 0s 4ms/step - loss: 0.1216 - accuracy: 0.9504 - val_loss: 0.1138 - val_accuracy: 0.9549\n",
      "Epoch 18/100\n",
      "36/36 [==============================] - 0s 4ms/step - loss: 0.1068 - accuracy: 0.9626 - val_loss: 0.0997 - val_accuracy: 0.9583\n",
      "Epoch 19/100\n",
      "36/36 [==============================] - 0s 4ms/step - loss: 0.0995 - accuracy: 0.9574 - val_loss: 0.1051 - val_accuracy: 0.9549\n",
      "Epoch 20/100\n",
      "36/36 [==============================] - 0s 4ms/step - loss: 0.1004 - accuracy: 0.9574 - val_loss: 0.1138 - val_accuracy: 0.9618\n",
      "Epoch 21/100\n",
      "36/36 [==============================] - 0s 3ms/step - loss: 0.0881 - accuracy: 0.9704 - val_loss: 0.1207 - val_accuracy: 0.9688\n",
      "Epoch 22/100\n",
      "36/36 [==============================] - 0s 6ms/step - loss: 0.0922 - accuracy: 0.9574 - val_loss: 0.1217 - val_accuracy: 0.9583\n",
      "Epoch 23/100\n",
      "36/36 [==============================] - 0s 3ms/step - loss: 0.0669 - accuracy: 0.9721 - val_loss: 0.0976 - val_accuracy: 0.9688\n",
      "Epoch 24/100\n",
      "36/36 [==============================] - 0s 4ms/step - loss: 0.0897 - accuracy: 0.9600 - val_loss: 0.1135 - val_accuracy: 0.9653\n",
      "Epoch 25/100\n",
      "36/36 [==============================] - 0s 4ms/step - loss: 0.0716 - accuracy: 0.9678 - val_loss: 0.1113 - val_accuracy: 0.9618\n",
      "Epoch 26/100\n",
      "36/36 [==============================] - 0s 4ms/step - loss: 0.0673 - accuracy: 0.9704 - val_loss: 0.1029 - val_accuracy: 0.9653\n",
      "Epoch 27/100\n",
      "36/36 [==============================] - 0s 4ms/step - loss: 0.0598 - accuracy: 0.9721 - val_loss: 0.0963 - val_accuracy: 0.9653\n",
      "Epoch 28/100\n",
      "36/36 [==============================] - 0s 3ms/step - loss: 0.0560 - accuracy: 0.9791 - val_loss: 0.1119 - val_accuracy: 0.9688\n",
      "Epoch 29/100\n",
      "36/36 [==============================] - 0s 3ms/step - loss: 0.0586 - accuracy: 0.9765 - val_loss: 0.0972 - val_accuracy: 0.9722\n",
      "Epoch 30/100\n",
      "36/36 [==============================] - 0s 4ms/step - loss: 0.0505 - accuracy: 0.9817 - val_loss: 0.1089 - val_accuracy: 0.9757\n",
      "Epoch 31/100\n",
      "36/36 [==============================] - 0s 4ms/step - loss: 0.0514 - accuracy: 0.9774 - val_loss: 0.0953 - val_accuracy: 0.9688\n",
      "Epoch 32/100\n",
      "36/36 [==============================] - 0s 4ms/step - loss: 0.0521 - accuracy: 0.9791 - val_loss: 0.1073 - val_accuracy: 0.9618\n",
      "Epoch 33/100\n",
      "36/36 [==============================] - 0s 4ms/step - loss: 0.0459 - accuracy: 0.9809 - val_loss: 0.1024 - val_accuracy: 0.9653\n",
      "Epoch 34/100\n",
      "36/36 [==============================] - 0s 3ms/step - loss: 0.0371 - accuracy: 0.9852 - val_loss: 0.0878 - val_accuracy: 0.9722\n",
      "Epoch 35/100\n",
      "36/36 [==============================] - 0s 4ms/step - loss: 0.0418 - accuracy: 0.9817 - val_loss: 0.1022 - val_accuracy: 0.9653\n",
      "Epoch 36/100\n",
      "36/36 [==============================] - 0s 4ms/step - loss: 0.0501 - accuracy: 0.9774 - val_loss: 0.1115 - val_accuracy: 0.9653\n",
      "Epoch 37/100\n",
      "36/36 [==============================] - 0s 3ms/step - loss: 0.0358 - accuracy: 0.9835 - val_loss: 0.1054 - val_accuracy: 0.9722\n",
      "Epoch 38/100\n",
      "36/36 [==============================] - 0s 3ms/step - loss: 0.0230 - accuracy: 0.9922 - val_loss: 0.1172 - val_accuracy: 0.9722\n",
      "Epoch 39/100\n",
      "36/36 [==============================] - 0s 3ms/step - loss: 0.0354 - accuracy: 0.9852 - val_loss: 0.0964 - val_accuracy: 0.9792\n",
      "Epoch 00039: early stopping\n"
     ]
    },
    {
     "data": {
      "image/png": "[encoded data removed]",
      "text/plain": [
       "<Figure size 720x360 with 2 Axes>"
      ]
     },
     "metadata": {
      "needs_background": "light"
     },
     "output_type": "display_data"
    }
   ],
   "source": [
    "model = Sequential()\n",
    "model.add(Dense(30, activation='relu', input_dim=64))\n",
    "model.add(Dense(20, activation='relu'))\n",
    "model.add(Dropout(0.5))\n",
    "model.add(Dense(12, activation='relu'))\n",
    "model.add(Dense(12, activation='relu'))\n",
    "model.add(Dense(12, activation='relu'))\n",
    "model.add(Dense(8, activation='relu'))\n",
    "model.add(Dense(4, activation='relu'))\n",
    "model.add(Dense(1, activation ='sigmoid'))\n",
    "\n",
    "model.compile(optimizer='adam',\n",
    "              loss='binary_crossentropy',\n",
    "              metrics=['accuracy'])\n",
    "\n",
    "# Define the EarlyStopping object\n",
    "early_stop = EarlyStopping(monitor='val_loss', min_delta=1e-8,\n",
    "                           verbose=1, patience=5,\n",
    "                           mode='min')\n",
    "\n",
    "# Place this in a list as the value of the `callbacks` parameter\n",
    "# in the `.fit()` method.\n",
    "results = model.fit(X_pure_train, y_pure_train,\n",
    "                    epochs=100, batch_size= 32,\n",
    "                    verbose=1, validation_data=(X_val, y_val),\n",
    "                    callbacks=[early_stop])\n",
    "\n",
    "train_loss = results.history['loss']\n",
    "train_acc = results.history['accuracy']\n",
    "val_loss = results.history['val_loss']\n",
    "val_acc = results.history['val_accuracy']\n",
    "\n",
    "\n",
    "fig, (ax1, ax2) = plt.subplots(1, 2, figsize=(10, 5))\n",
    "sns.lineplot(x=results.epoch, y=train_loss, ax=ax1, label='train_loss')\n",
    "sns.lineplot(x=results.epoch, y=train_acc, ax=ax2, label='train_accuracy')\n",
    "\n",
    "sns.lineplot(x=results.epoch, y=val_loss, ax=ax1, label='val_loss')\n",
    "sns.lineplot(x=results.epoch, y=val_acc, ax=ax2, label='val_accuracy');"
   ]
  },
  {
   "cell_type": "markdown",
   "metadata": {},
   "source": [
    "<details>\n",
    "    <summary>One answer here</summary>\n",
    "<code>model = Sequential()\n",
    "model.add(Dense(30, activation='relu', input_dim=64))\n",
    "model.add(Dense(20, activation='relu'))\n",
    "model.add(Dropout(0.5))\n",
    "model.add(Dense(12, activation='relu'))\n",
    "model.add(Dense(12, activation='relu'))\n",
    "model.add(Dense(12, activation='relu'))\n",
    "model.add(Dense(8, activation='relu'))\n",
    "model.add(Dense(4, activation='relu'))\n",
    "model.add(Dense(1, activation ='sigmoid'))\n",
    "\n",
    "model.compile(optimizer='adam',\n",
    "              loss='binary_crossentropy',\n",
    "              metrics=['accuracy'])\n",
    "\n",
    "# Define the EarlyStopping object\n",
    "\n",
    "\n",
    "\n",
    "# Place this in a list as the value of the `callbacks` parameter\n",
    "# in the `.fit()` method.\n",
    "results = model.fit(X_pure_train, y_pure_train,\n",
    "                    epochs=50, batch_size= 32,\n",
    "                    verbose=0, validation_data=(X_val, y_val),\n",
    "                    callbacks=[early_stop])\n",
    "\n",
    "train_loss = results.history['loss']\n",
    "train_acc = results.history['accuracy']\n",
    "val_loss = results.history['val_loss']\n",
    "val_acc = results.history['val_accuracy']\n",
    "\n",
    "\n",
    "fig, (ax1, ax2) = plt.subplots(1, 2, figsize=(10, 5))\n",
    "sns.lineplot(x=results.epoch, y=train_loss, ax=ax1, label='train_loss')\n",
    "sns.lineplot(x=results.epoch, y=train_acc, ax=ax2, label='train_accuracy')\n",
    "\n",
    "sns.lineplot(x=results.epoch, y=val_loss, ax=ax1, label='val_loss')\n",
    "sns.lineplot(x=results.epoch, y=val_acc, ax=ax2, label='val_accuracy');</code>\n",
    "</details>"
   ]
  },
  {
   "cell_type": "code",
   "execution_count": 30,
   "metadata": {},
   "outputs": [
    {
     "data": {
      "text/plain": [
       "0.9791666865348816"
      ]
     },
     "execution_count": 30,
     "metadata": {},
     "output_type": "execute_result"
    }
   ],
   "source": [
    "results.history['val_accuracy'][-1]"
   ]
  },
  {
   "cell_type": "markdown",
   "metadata": {},
   "source": [
    "## Multiclass Classification and Softmax"
   ]
  },
  {
   "cell_type": "markdown",
   "metadata": {},
   "source": [
    "Now let's return to the problem of predicting digits 0 through 9."
   ]
  },
  {
   "cell_type": "code",
   "execution_count": 32,
   "metadata": {},
   "outputs": [],
   "source": [
    "digits = load_digits()\n",
    "X = digits.data\n",
    "y = digits.target"
   ]
  },
  {
   "cell_type": "code",
   "execution_count": 33,
   "metadata": {},
   "outputs": [],
   "source": [
    "X_train, X_test, y_train, y_test = train_test_split(X, y,\n",
    "                                                    random_state=42,\n",
    "                                                    test_size=0.2)\n",
    "X_pure_train, X_val, y_pure_train, y_val =\\\n",
    "    train_test_split(X_train, y_train,\n",
    "                     random_state=42, test_size=0.2)\n",
    "X_pure_train, X_val, X_test = X_pure_train/16, X_val/16, X_test/16"
   ]
  },
  {
   "cell_type": "code",
   "execution_count": 34,
   "metadata": {},
   "outputs": [
    {
     "data": {
      "text/plain": [
       "array([[8],\n",
       "       [7],\n",
       "       [4],\n",
       "       ...,\n",
       "       [1],\n",
       "       [2],\n",
       "       [8]])"
      ]
     },
     "execution_count": 34,
     "metadata": {},
     "output_type": "execute_result"
    }
   ],
   "source": [
    "y_pure_train.reshape(-1,1)"
   ]
  },
  {
   "cell_type": "markdown",
   "metadata": {},
   "source": [
    "For a multiclass output, our neural net expects our target to be in a certain form."
   ]
  },
  {
   "cell_type": "code",
   "execution_count": 35,
   "metadata": {},
   "outputs": [],
   "source": [
    "ohe = OneHotEncoder(sparse=False)\n",
    "y_pure_train = ohe.fit_transform(y_pure_train.reshape(-1,1))\n",
    "y_val = ohe.transform(y_val.reshape(-1,1))\n",
    "y_test = ohe.transform(y_test.reshape(-1,1))"
   ]
  },
  {
   "cell_type": "code",
   "execution_count": 36,
   "metadata": {},
   "outputs": [
    {
     "data": {
      "text/plain": [
       "array([[0., 0., 0., ..., 0., 0., 0.],\n",
       "       [0., 0., 0., ..., 0., 0., 1.],\n",
       "       [0., 0., 0., ..., 0., 0., 0.],\n",
       "       ...,\n",
       "       [0., 0., 0., ..., 0., 1., 0.],\n",
       "       [0., 0., 0., ..., 0., 0., 0.],\n",
       "       [0., 0., 0., ..., 0., 0., 0.]])"
      ]
     },
     "execution_count": 36,
     "metadata": {},
     "output_type": "execute_result"
    }
   ],
   "source": [
    "y_test"
   ]
  },
  {
   "cell_type": "code",
   "execution_count": 38,
   "metadata": {},
   "outputs": [
    {
     "data": {
      "text/plain": [
       "(360, 10)"
      ]
     },
     "execution_count": 38,
     "metadata": {},
     "output_type": "execute_result"
    }
   ],
   "source": [
    "y_test.shape"
   ]
  },
  {
   "cell_type": "code",
   "execution_count": 39,
   "metadata": {},
   "outputs": [
    {
     "name": "stdout",
     "output_type": "stream",
     "text": [
      "Epoch 1/50\n",
      "115/115 [==============================] - 0s 4ms/step - loss: 2.2764 - accuracy: 0.1245 - val_loss: 2.2181 - val_accuracy: 0.1840\n",
      "Epoch 2/50\n",
      "115/115 [==============================] - 0s 3ms/step - loss: 2.1199 - accuracy: 0.2254 - val_loss: 2.0851 - val_accuracy: 0.2153\n",
      "Epoch 3/50\n",
      "115/115 [==============================] - 0s 3ms/step - loss: 1.9297 - accuracy: 0.3412 - val_loss: 1.8817 - val_accuracy: 0.3681\n",
      "Epoch 4/50\n",
      "115/115 [==============================] - 0s 3ms/step - loss: 1.6851 - accuracy: 0.4386 - val_loss: 1.6283 - val_accuracy: 0.4375\n",
      "Epoch 5/50\n",
      "115/115 [==============================] - ETA: 0s - loss: 1.4538 - accuracy: 0.51 - 0s 3ms/step - loss: 1.4258 - accuracy: 0.5283 - val_loss: 1.4111 - val_accuracy: 0.5104\n",
      "Epoch 6/50\n",
      "115/115 [==============================] - 0s 3ms/step - loss: 1.2086 - accuracy: 0.6066 - val_loss: 1.2099 - val_accuracy: 0.5556\n",
      "Epoch 7/50\n",
      "115/115 [==============================] - 0s 3ms/step - loss: 1.0474 - accuracy: 0.6745 - val_loss: 1.0702 - val_accuracy: 0.6458\n",
      "Epoch 8/50\n",
      "115/115 [==============================] - 0s 3ms/step - loss: 0.9210 - accuracy: 0.7198 - val_loss: 0.9557 - val_accuracy: 0.6944\n",
      "Epoch 9/50\n",
      "115/115 [==============================] - 0s 3ms/step - loss: 0.8205 - accuracy: 0.7563 - val_loss: 0.8506 - val_accuracy: 0.7153\n",
      "Epoch 10/50\n",
      "115/115 [==============================] - 0s 3ms/step - loss: 0.7422 - accuracy: 0.7859 - val_loss: 0.7884 - val_accuracy: 0.7431\n",
      "Epoch 11/50\n",
      "115/115 [==============================] - 0s 3ms/step - loss: 0.6789 - accuracy: 0.7990 - val_loss: 0.7178 - val_accuracy: 0.7639\n",
      "Epoch 12/50\n",
      "115/115 [==============================] - 0s 4ms/step - loss: 0.6210 - accuracy: 0.8172 - val_loss: 0.6800 - val_accuracy: 0.7708\n",
      "Epoch 13/50\n",
      "115/115 [==============================] - 0s 3ms/step - loss: 0.5751 - accuracy: 0.8242 - val_loss: 0.6370 - val_accuracy: 0.7778\n",
      "Epoch 14/50\n",
      "115/115 [==============================] - 0s 2ms/step - loss: 0.5375 - accuracy: 0.8407 - val_loss: 0.5943 - val_accuracy: 0.7951\n",
      "Epoch 15/50\n",
      "115/115 [==============================] - 0s 3ms/step - loss: 0.5093 - accuracy: 0.8477 - val_loss: 0.5722 - val_accuracy: 0.7951\n",
      "Epoch 16/50\n",
      "115/115 [==============================] - 0s 4ms/step - loss: 0.4809 - accuracy: 0.8642 - val_loss: 0.5493 - val_accuracy: 0.8021\n",
      "Epoch 17/50\n",
      "115/115 [==============================] - 0s 2ms/step - loss: 0.4566 - accuracy: 0.8790 - val_loss: 0.5316 - val_accuracy: 0.7986\n",
      "Epoch 18/50\n",
      "115/115 [==============================] - 0s 2ms/step - loss: 0.4358 - accuracy: 0.8729 - val_loss: 0.5130 - val_accuracy: 0.8125\n",
      "Epoch 19/50\n",
      "115/115 [==============================] - 0s 2ms/step - loss: 0.4176 - accuracy: 0.8790 - val_loss: 0.4880 - val_accuracy: 0.8125\n",
      "Epoch 20/50\n",
      "115/115 [==============================] - 0s 2ms/step - loss: 0.4021 - accuracy: 0.8825 - val_loss: 0.4947 - val_accuracy: 0.8090\n",
      "Epoch 21/50\n",
      "115/115 [==============================] - 0s 3ms/step - loss: 0.3832 - accuracy: 0.8877 - val_loss: 0.4645 - val_accuracy: 0.8160\n",
      "Epoch 22/50\n",
      "115/115 [==============================] - 0s 2ms/step - loss: 0.3695 - accuracy: 0.8903 - val_loss: 0.4537 - val_accuracy: 0.8264\n",
      "Epoch 23/50\n",
      "115/115 [==============================] - 0s 2ms/step - loss: 0.3569 - accuracy: 0.8903 - val_loss: 0.4497 - val_accuracy: 0.8264\n",
      "Epoch 24/50\n",
      "115/115 [==============================] - 0s 2ms/step - loss: 0.3496 - accuracy: 0.8930 - val_loss: 0.4391 - val_accuracy: 0.8472\n",
      "Epoch 25/50\n",
      "115/115 [==============================] - 0s 2ms/step - loss: 0.3368 - accuracy: 0.9008 - val_loss: 0.4460 - val_accuracy: 0.8333\n",
      "Epoch 26/50\n",
      "115/115 [==============================] - 0s 2ms/step - loss: 0.3192 - accuracy: 0.9034 - val_loss: 0.4513 - val_accuracy: 0.8229\n",
      "Epoch 27/50\n",
      "115/115 [==============================] - 0s 2ms/step - loss: 0.3092 - accuracy: 0.9112 - val_loss: 0.4146 - val_accuracy: 0.8472\n",
      "Epoch 28/50\n",
      "115/115 [==============================] - 0s 3ms/step - loss: 0.3007 - accuracy: 0.9121 - val_loss: 0.4251 - val_accuracy: 0.8542\n",
      "Epoch 29/50\n",
      "115/115 [==============================] - 0s 2ms/step - loss: 0.2942 - accuracy: 0.9199 - val_loss: 0.3982 - val_accuracy: 0.8611\n",
      "Epoch 30/50\n",
      "115/115 [==============================] - 0s 3ms/step - loss: 0.2835 - accuracy: 0.9191 - val_loss: 0.3920 - val_accuracy: 0.8542\n",
      "Epoch 31/50\n",
      "115/115 [==============================] - 0s 2ms/step - loss: 0.2754 - accuracy: 0.9269 - val_loss: 0.4023 - val_accuracy: 0.8507\n",
      "Epoch 32/50\n",
      "115/115 [==============================] - 0s 2ms/step - loss: 0.2680 - accuracy: 0.9173 - val_loss: 0.3864 - val_accuracy: 0.8681\n",
      "Epoch 33/50\n",
      "115/115 [==============================] - 0s 2ms/step - loss: 0.2596 - accuracy: 0.9234 - val_loss: 0.3699 - val_accuracy: 0.8646\n",
      "Epoch 34/50\n",
      "115/115 [==============================] - 0s 3ms/step - loss: 0.2538 - accuracy: 0.9295 - val_loss: 0.3708 - val_accuracy: 0.8715\n",
      "Epoch 35/50\n",
      "115/115 [==============================] - 0s 2ms/step - loss: 0.2528 - accuracy: 0.9330 - val_loss: 0.3748 - val_accuracy: 0.8681\n",
      "Epoch 36/50\n",
      "115/115 [==============================] - 0s 2ms/step - loss: 0.2389 - accuracy: 0.9295 - val_loss: 0.3671 - val_accuracy: 0.8785\n",
      "Epoch 37/50\n",
      "115/115 [==============================] - 0s 2ms/step - loss: 0.2338 - accuracy: 0.9330 - val_loss: 0.3677 - val_accuracy: 0.8715\n",
      "Epoch 38/50\n",
      "115/115 [==============================] - 0s 3ms/step - loss: 0.2265 - accuracy: 0.9373 - val_loss: 0.3515 - val_accuracy: 0.8715\n",
      "Epoch 39/50\n",
      "115/115 [==============================] - 0s 2ms/step - loss: 0.2204 - accuracy: 0.9391 - val_loss: 0.3342 - val_accuracy: 0.8819\n",
      "Epoch 40/50\n",
      "115/115 [==============================] - 0s 2ms/step - loss: 0.2144 - accuracy: 0.9347 - val_loss: 0.3458 - val_accuracy: 0.8715\n",
      "Epoch 41/50\n",
      "115/115 [==============================] - 0s 3ms/step - loss: 0.2089 - accuracy: 0.9365 - val_loss: 0.3494 - val_accuracy: 0.8785\n",
      "Epoch 42/50\n",
      "115/115 [==============================] - 0s 3ms/step - loss: 0.2047 - accuracy: 0.9452 - val_loss: 0.3287 - val_accuracy: 0.8715\n",
      "Epoch 43/50\n",
      "115/115 [==============================] - 1s 5ms/step - loss: 0.1971 - accuracy: 0.9443 - val_loss: 0.3360 - val_accuracy: 0.8785\n",
      "Epoch 44/50\n",
      "115/115 [==============================] - 0s 4ms/step - loss: 0.1937 - accuracy: 0.9426 - val_loss: 0.3123 - val_accuracy: 0.8854\n",
      "Epoch 45/50\n",
      "115/115 [==============================] - 0s 2ms/step - loss: 0.1937 - accuracy: 0.9417 - val_loss: 0.3066 - val_accuracy: 0.8924\n",
      "Epoch 46/50\n",
      "115/115 [==============================] - 0s 3ms/step - loss: 0.1848 - accuracy: 0.9504 - val_loss: 0.3012 - val_accuracy: 0.8854\n",
      "Epoch 47/50\n",
      "115/115 [==============================] - 0s 3ms/step - loss: 0.1832 - accuracy: 0.9469 - val_loss: 0.3243 - val_accuracy: 0.8750\n",
      "Epoch 48/50\n",
      "115/115 [==============================] - 0s 2ms/step - loss: 0.1745 - accuracy: 0.9443 - val_loss: 0.3031 - val_accuracy: 0.8889\n",
      "Epoch 49/50\n",
      "115/115 [==============================] - 0s 3ms/step - loss: 0.1693 - accuracy: 0.9539 - val_loss: 0.2984 - val_accuracy: 0.8924\n",
      "Epoch 50/50\n",
      "115/115 [==============================] - 0s 3ms/step - loss: 0.1637 - accuracy: 0.9513 - val_loss: 0.2893 - val_accuracy: 0.8958\n"
     ]
    }
   ],
   "source": [
    "# Model from above, but now with ten output neurons:\n",
    "\n",
    "model = Sequential()\n",
    "model.add(Dense(12, activation='relu', input_dim=64))\n",
    "model.add(Dense(8, activation='relu'))\n",
    "model.add(Dense(10, activation='softmax'))\n",
    "\n",
    "model.compile(optimizer='adam',\n",
    "              loss='categorical_crossentropy',\n",
    "              metrics=['accuracy'])\n",
    "\n",
    "results = model.fit(X_pure_train, y_pure_train,\n",
    "                   epochs=50, batch_size=10,\n",
    "                   validation_data=(X_val, y_val))"
   ]
  },
  {
   "cell_type": "markdown",
   "metadata": {},
   "source": [
    "$$\\large \\text{Softmax}(x_{i}) = \\frac{\\exp(x_i)}{\\sum_j \\exp(x_j)}$$\n",
    "\n",
    "The sofmax function outputs a number between 0 and 1 for each of our classes.  All of the probabilities of the classes sum up to 1.\n",
    "\n",
    "The number of nodes in our output layer equals the number of categories in our dataset.\n",
    "\n",
    "We also need a new loss function: **categorical crossentropy**, which calculates a separate loss for each label and then sums the results."
   ]
  },
  {
   "cell_type": "code",
   "execution_count": 40,
   "metadata": {},
   "outputs": [],
   "source": [
    "history = results.history\n",
    "training_loss = history['loss']\n",
    "val_loss = history['val_loss']\n",
    "training_accuracy = history['accuracy']\n",
    "val_accuracy = history['val_accuracy']"
   ]
  },
  {
   "cell_type": "code",
   "execution_count": 41,
   "metadata": {},
   "outputs": [
    {
     "data": {
      "image/png": "[encoded data removed]",
      "text/plain": [
       "<Figure size 1080x360 with 2 Axes>"
      ]
     },
     "metadata": {
      "needs_background": "light"
     },
     "output_type": "display_data"
    }
   ],
   "source": [
    "fig, (ax1,ax2) = plt.subplots(1,2,figsize=(15,5))\n",
    "\n",
    "\n",
    "sns.lineplot(x=list(range(len(training_loss))),\n",
    "             y=training_loss, color='r', label='training', ax=ax1)\n",
    "sns.lineplot(x=list(range(len(val_loss))),\n",
    "             y=val_loss, color='b', label='validation', ax=ax1)\n",
    "sns.lineplot(x=list(range(len(training_loss))),\n",
    "             y=training_accuracy, color='r', label='training',ax=ax2)\n",
    "sns.lineplot(x=list(range(len(val_loss))),\n",
    "             y=val_accuracy, color='b', label='validation',ax=ax2)\n",
    "ax1.legend();"
   ]
  },
  {
   "cell_type": "code",
   "execution_count": 42,
   "metadata": {},
   "outputs": [],
   "source": [
    "y_hat_test = np.argmax(model.predict(X_test), axis=-1)"
   ]
  },
  {
   "cell_type": "code",
   "execution_count": 43,
   "metadata": {},
   "outputs": [
    {
     "data": {
      "text/plain": [
       "array([[32,  0,  0,  0,  1,  0,  0,  0,  0,  0],\n",
       "       [ 0, 24,  0,  0,  0,  0,  0,  0,  2,  2],\n",
       "       [ 0,  0, 30,  1,  0,  0,  0,  0,  2,  0],\n",
       "       [ 0,  0,  0, 33,  0,  0,  0,  0,  0,  1],\n",
       "       [ 0,  0,  0,  0, 46,  0,  0,  0,  0,  0],\n",
       "       [ 0,  0,  1,  0,  0, 46,  0,  0,  0,  0],\n",
       "       [ 1,  0,  0,  0,  0,  0, 34,  0,  0,  0],\n",
       "       [ 0,  0,  0,  0,  0,  1,  0, 33,  0,  0],\n",
       "       [ 0,  3,  0,  0,  0,  0,  0,  0, 24,  3],\n",
       "       [ 0,  0,  0,  3,  0,  1,  0,  0,  0, 36]])"
      ]
     },
     "execution_count": 43,
     "metadata": {},
     "output_type": "execute_result"
    }
   ],
   "source": [
    "y_test_restore = ohe.inverse_transform(y_test)\n",
    "confusion_matrix(y_test_restore, y_hat_test)"
   ]
  },
  {
   "cell_type": "markdown",
   "metadata": {},
   "source": [
    "Wow, look at that performance!  \n",
    "\n",
    "That is great, but remember, we were dealing with simple black and white images.  With color, our basic neural net will have less success.\n",
    "\n",
    "We will explore more advanced tools in the coming days.\n"
   ]
  }
 ],
 "metadata": {
  "celltoolbar": "Raw Cell Format",
  "colab": {
   "collapsed_sections": [],
   "name": "intro-to-keras.ipynb",
   "provenance": []
  },
  "kernelspec": {
   "display_name": "Python (learn-env)",
   "language": "python",
   "name": "learn-env"
  },
  "language_info": {
   "codemirror_mode": {
    "name": "ipython",
    "version": 3
   },
   "file_extension": ".py",
   "mimetype": "text/x-python",
   "name": "python",
   "nbconvert_exporter": "python",
   "pygments_lexer": "ipython3",
   "version": "3.8.5"
  }
 },
 "nbformat": 4,
 "nbformat_minor": 4
}
